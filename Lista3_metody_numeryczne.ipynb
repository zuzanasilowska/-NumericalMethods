{
 "cells": [
  {
   "cell_type": "markdown",
   "metadata": {},
   "source": [
    "<div style=\"text-align:center; font-size:29px; font-family:'Georgia'; font-weight:bold; color:plum;\">\n",
    "    Lista 3\n",
    "</div>"
   ]
  },
  {
   "cell_type": "markdown",
   "metadata": {},
   "source": [
    "**Zadanie 1**\n",
    "\n",
    "\n",
    "**Treść zadania:**\n",
    "Rozwiąż (w pojedynczej precyzji) układ równań  \n",
    "$$\n",
    "A_{5×5}\\vec{x} = \\vec{b},\n",
    "$$\n",
    "gdzie $A_{5×5}$ to macierz Hilberta oraz $\\vec{b} = (5, 4, 3, 2, 1)^T$. Skorzystaj z metody iteracyjnego poprawiania rozwiązań.\n",
    "\n",
    "**Opis zadania:**\n",
    "\n",
    "Celem jest zastosowanie metody iteracyjnego poprawiania rozwiązań w celu rozwiązania układu równań z macierzą Hilberta w pojedynczej precyzji. Warto uwzględnić kroki obliczeniowe oraz uzasadnienie wyboru tej metody w kontekście kondycjonowania macierzy Hilberta.\n"
   ]
  },
  {
   "cell_type": "markdown",
   "metadata": {},
   "source": [
    "<div style=\"text-align:center; font-size:24px; font-family:'Georgia'; font-weight:bold; color:plum;\">\n",
    "    Rozwiązanie\n",
    "</div>"
   ]
  },
  {
   "cell_type": "markdown",
   "metadata": {},
   "source": [
    "1. **Krok pierwszy**  \n",
    "   Rozwiązujemy układ równań:  \n",
    "   $$\n",
    "   A \\vec{x}^{(1)} = \\vec{b}.\n",
    "   $$\n",
    "\n",
    "2. **Krok drugi**  \n",
    "   Obliczamy wektor reszt:  \n",
    "   $$\n",
    "   \\vec{r}^{(1)} = \\vec{b} - A \\vec{x}^{(1)}.\n",
    "   $$\n",
    "\n",
    "3. **Krok trzeci**  \n",
    "    Jeśli spełniony jest jeden z poniższych warunków:\n",
    "\n",
    "    $$\n",
    "    \\| \\vec{r}^{(1)} \\|_\\infty \\leq \\| A \\vec{x}^{(1)} \\|_\\infty u\n",
    "    $$\n",
    "\n",
    "    lub\n",
    "\n",
    "    $$\n",
    "    \\| \\vec{r}^{(1)} \\|_\\infty \\leq \\| \\vec{b} \\|_\\infty u,\n",
    "    $$\n",
    "\n",
    "    gdzie \\( u \\) oznacza jednostkę maszynową, proces obliczeniowy można zakończyć.\n",
    "\n",
    "    **W przeciwnym wypadku:**  \n",
    "    należy przejść do kolejnego etapu iteracji.\n",
    "\n",
    "4. **Krok czwarty**  \n",
    "   Obliczamy:  \n",
    "   $$\n",
    "   \\delta \\vec{x}^{(1)},\n",
    "   $$  \n",
    "   i wyznaczamy:  \n",
    "   $$\n",
    "   \\vec{x}^{(2)} = \\vec{x}^{(1)} + \\delta \\vec{x}^{(1)}.\n",
    "   $$\n",
    "\n",
    "5. **Krok piąty**  \n",
    "   Obliczamy:  \n",
    "   $$\n",
    "   \\vec{r}^{(2)} = \\vec{b} - A \\vec{x}^{(2)},\n",
    "   $$  \n",
    "   i ponownie przechodzimy do punktu 3.\n",
    "\n",
    "---\n",
    "\n",
    "**Dla rozkładu LU definiujemy następujące trzy równania:**  \n",
    "\n",
    "1.  \n",
    "   $$\n",
    "   L \\cdot \\vec{z} = \\vec{y},\n",
    "   $$  \n",
    "\n",
    "2.  \n",
    "   $$\n",
    "   U \\cdot \\vec{x} = \\vec{z},\n",
    "   $$  \n",
    "\n",
    "3.  \n",
    "   $$\n",
    "   \\vec{r} = A \\delta \\vec{x}.\n",
    "   $$  \n"
   ]
  },
  {
   "cell_type": "code",
   "execution_count": 9,
   "metadata": {},
   "outputs": [],
   "source": [
    "import numpy as np\n",
    "from scipy.linalg import hilbert, norm"
   ]
  },
  {
   "cell_type": "code",
   "execution_count": 10,
   "metadata": {},
   "outputs": [],
   "source": [
    "#implementacja funkcji do ręcznego obliczenia rozkładu LU\n",
    "def Lu(mat):\n",
    "    mat = mat.astype(float)\n",
    "    n = len(mat)  \n",
    "    L, U = np.zeros((n, n)), np.zeros((n, n))\n",
    "\n",
    "    # Główna pętla, iterujemy przez każdy wiersz (lub kolumnę, ponieważ macierz jest kwadratowa)\n",
    "    for i in range(n):\n",
    "        for k in range(i, n):\n",
    "            sum_ = 0\n",
    "            for j in range(i):\n",
    "                sum_ += (L[i][j] * U[j][k])\n",
    "            U[i][k] = mat[i][k] - sum_\n",
    "\n",
    "        # Wyznaczamy wartości dla macierzy L (dolnotrójkątnej)\n",
    "        for k in range(i, n):\n",
    "            if i == k:\n",
    "                L[i][i] = 1\n",
    "            else:\n",
    "                sum_ = 0\n",
    "                for j in range(i):\n",
    "                    sum_ += (L[k][j] * U[j][i])\n",
    "                L[k][i] = (mat[k][i] - sum_) / U[i][i]\n",
    "\n",
    "    # Zwracamy dwie macierze: L (dolnotrójkątna) i U (górnotrójkątna)\n",
    "    return L, U\n",
    "\n"
   ]
  },
  {
   "cell_type": "code",
   "execution_count": 11,
   "metadata": {},
   "outputs": [],
   "source": [
    "def solve_LU(L, U, b):\n",
    "    n = len(b)\n",
    "    z = np.zeros(n)\n",
    "    for i in range(n):\n",
    "        z[i] = b[i] - sum(L[i][j] * z[j] for j in range(i))\n",
    "    x = np.zeros(n)\n",
    "    for i in range(n-1, -1, -1):\n",
    "        x[i] = (z[i] - sum(U[i][j] * x[j] for j in range(i+1, n))) / U[i][i]\n",
    "    return x"
   ]
  },
  {
   "cell_type": "code",
   "execution_count": 23,
   "metadata": {},
   "outputs": [],
   "source": [
    "# Funkcja główna z iteracyjnym poprawianiem\n",
    "def rozwiązanie_z_poprawieniem():\n",
    "    A = hilbert(5).astype(np.float32)\n",
    "    b = np.array([5, 4, 3, 2, 1], dtype=np.float32)\n",
    "\n",
    "    # Rozkład LU\n",
    "    L, U = Lu(A)\n",
    "\n",
    "    # Pierwsze rozwiązanie\n",
    "    x = solve_LU(L, U, b)\n",
    "\n",
    "    # Parametry iteracyjne\n",
    "    u = np.finfo(np.float32).eps\n",
    "    max_iter = 1000000\n",
    "\n",
    "    for i in range(max_iter):\n",
    "        # Oblicz wektor reszt r = b - A*x \n",
    "        r = b - np.dot(A, x)\n",
    "\n",
    "        # Sprawdzamy kryterium zakończenia\n",
    "        if norm(r, np.inf) <= max(norm(np.dot(A, x), np.inf) * u, norm(b, np.inf) * u):\n",
    "            break\n",
    "        \n",
    "        # obliczamy poprawkę δx z równania A * δx = r \n",
    "        delta_x = solve_LU(L, U, r)\n",
    "\n",
    "        #Aktualizacja x: x = x + δx\n",
    "        x += delta_x\n",
    "\n",
    "    return x\n",
    "\n"
   ]
  },
  {
   "cell_type": "code",
   "execution_count": 25,
   "metadata": {},
   "outputs": [
    {
     "name": "stdout",
     "output_type": "stream",
     "text": [
      "Rozwiązanie x po iteracyjnym poprawianiu: [   -94.84781941   2157.10127273 -10697.32231829  17900.6578965\n",
      "  -9440.46525292]\n",
      "Rozwiązanie przy pomocy funkcj wbudowanej: [   -94.84782   2157.1013  -10697.322    17900.658    -9440.465  ]\n"
     ]
    }
   ],
   "source": [
    "roz = rozwiązanie_z_poprawieniem()\n",
    "print(\"Rozwiązanie x po iteracyjnym poprawianiu:\", roz)\n",
    "A = hilbert(5).astype(np.float32)\n",
    "b = np.array([5, 4, 3, 2, 1], dtype=np.float32)\n",
    "\n",
    "# pierwsze rozwiązanie przy pomocy f wbudowanej\n",
    "x1 = np.linalg.solve(A, b)\n",
    "print(\"Rozwiązanie przy pomocy funkcj wbudowanej:\", x1)"
   ]
  },
  {
   "cell_type": "markdown",
   "metadata": {},
   "source": [
    "**Zadanie 2**\n",
    "\n",
    "**Treść zadania:**\n",
    "\n",
    "Rozwiąż układ równań metodą Gaussa-Seidla:\n",
    "\n",
    "$$\n",
    "\\begin{bmatrix}\n",
    "4 & -1 & 0 & 0 & \\cdots & 0 & 0 & 0 & 1 \\\\\n",
    "-1 & 4 & -1 & 0 & \\cdots & 0 & 0 & 0 & 0 \\\\\n",
    "0 & -1 & 4 & -1 & \\cdots & 0 & 0 & 0 & 0 \\\\\n",
    "\\vdots & \\vdots & \\vdots & \\vdots & \\ddots & \\vdots & \\vdots & \\vdots & \\vdots \\\\\n",
    "0 & 0 & 0 & 0 & \\cdots & -1 & 4 & -1 & 0 \\\\\n",
    "0 & 0 & 0 & 0 & \\cdots & 0 & -1 & 4 & -1 \\\\\n",
    "1 & 0 & 0 & 0 & \\cdots & 0 & 0 & -1 & 4\n",
    "\\end{bmatrix}\n",
    "\\begin{bmatrix}\n",
    "x_1 \\\\\n",
    "x_2 \\\\\n",
    "x_3 \\\\\n",
    "\\vdots \\\\\n",
    "x_{n-2} \\\\\n",
    "x_{n-1} \\\\\n",
    "x_n\n",
    "\\end{bmatrix}\n",
    "=\n",
    "\\begin{bmatrix}\n",
    "0 \\\\\n",
    "0 \\\\\n",
    "0 \\\\\n",
    "\\vdots \\\\\n",
    "0 \\\\\n",
    "0 \\\\\n",
    "100\n",
    "\\end{bmatrix}\n",
    "$$\n",
    "\n",
    "Program powinien działać dla dowolnego \\( n \\). Przeprowadź obliczenia dla \\( n = 20 \\) i sprawdź zbieżność rozwiązania.\n",
    "\n",
    "**Opis zadania:**\n",
    "\n",
    "Celem jest implementacja algorytmu rozwiązującego układ równań za pomocą metody Gaussa-Seidla. Należy napisać program, który działa dla dowolnej wartości \\( n \\), oraz przeprowadzić obliczenia dla \\( n = 20 \\). Wynik powinien zostać zweryfikowany pod kątem zbieżności.\n"
   ]
  },
  {
   "cell_type": "markdown",
   "metadata": {},
   "source": [
    "**Informacje teoretyczne**\n",
    "\n",
    "Metoda Gaussa-Seidla układu równań \\( Ax = b \\) wyrażona jest wzorem:\n",
    "\n",
    "$$\n",
    "x_i^{(k+1)} = \\frac{1}{A_{ii}} \\left( b_i - \\sum_{j=1}^{i-1} A_{ij} x_j^{(k+1)} - \\sum_{j=i+1}^{n} A_{ij} x_j^{(k)} \\right)\n",
    "$$\n",
    "\n",
    "gdzie:\n",
    "- \\($ b_i $\\) - \\( $i $\\)-ty element wektora \\( $b$ \\),\n",
    "- \\($ x_i^{(k+1)} $\\) - wartość \\( $i$ \\)-tej zmiennej w \\($ (k+1)$ \\)-tej iteracji,\n",
    "- \\($ x_j^{(k+1)} $\\) - nowe wartości obliczonych zmiennych (dla \\( $j < i$ \\)),\n",
    "- \\( $A_{ii}$ \\) - wartość diagonalna macierzy \\( $A$ \\) w wierszu \\( $i$ \\),\n",
    "- \\($ x_j^{(k)} $\\) - wartości zmiennych z poprzedniej iteracji (dla \\( $j > i $\\)).\n"
   ]
  },
  {
   "cell_type": "markdown",
   "metadata": {},
   "source": [
    "<div style=\"text-align:center; font-size:24px; font-family:'Georgia'; font-weight:bold; color:plum;\">\n",
    "    Rozwiązanie 1\n",
    "</div>"
   ]
  },
  {
   "cell_type": "code",
   "execution_count": 35,
   "metadata": {},
   "outputs": [],
   "source": [
    "def generowanie_macierzy_A(n):\n",
    "    mat = np.zeros((n,n))  \n",
    "    for i in range(n):\n",
    "        mat[i][i] = 4  # Ustawiamy wartośC 4 na głownej przekątnej\n",
    "        if i - 1 >= 0:  \n",
    "            mat[i][i-1] = -1  \n",
    "        if i + 1 < n:  \n",
    "            mat[i][i+1] = -1  \n",
    "        mat[0][-1] = 1  # Ustawiamy wartości 1 w pierwszym wierszu, ostatniej kolumnie\n",
    "        mat[-1][0] = 1  # Ustawiamy wartości 1 w ostatnim wierszu, pierwszej kolumnie\n",
    "    return mat  #\n"
   ]
  },
  {
   "cell_type": "markdown",
   "metadata": {},
   "source": [
    "**Struktura macierzy \\( A \\):**\n",
    "\n",
    "- Na głównej przekątnej są wartości \\( 4 \\).\n",
    "- Na pierwszej dolnej i górnej przekątnej są wartości \\( -1 \\).\n",
    "- Element \\( A[0][n-1] \\) (pierwszy wiersz, ostatnia kolumna) oraz \\( A[n-1][0] \\) (ostatni wiersz, pierwsza kolumna) są równe \\( 1 \\), co wprowadza cykliczność w macierzy.\n"
   ]
  },
  {
   "cell_type": "code",
   "execution_count": 36,
   "metadata": {},
   "outputs": [],
   "source": [
    "def generowanie_macierzy_b(n):\n",
    "    b = np.zeros(n)\n",
    "    b[-1] = 100\n",
    "    return b"
   ]
  },
  {
   "cell_type": "markdown",
   "metadata": {},
   "source": [
    "**Opis:**\n",
    "\n",
    "Funkcja generuje wektor \\( b \\), który jest prawą stroną układu równań \\( A \\vec{x} = \\vec{b} \\).\n",
    "\n",
    "- Wszystkie elementy wektora \\( b \\) są równe \\( 0 \\), z wyjątkiem ostatniego elementu, który ma wartość \\( 100 \\).\n"
   ]
  },
  {
   "cell_type": "code",
   "execution_count": 37,
   "metadata": {},
   "outputs": [],
   "source": [
    "def ldu(mat):\n",
    "    n = len(mat)  \n",
    "    \n",
    "    # Tworzymy kopie macierzy `mat`, aby uniknąć jej modyfikacji. \n",
    "    # Te kopie zostaną przekształcone w macierze L, D i U.\n",
    "    l, d, u = mat.copy(), mat.copy(), mat.copy()\n",
    "\n",
    "    # Iterujemy po każdym elemencie macierzy `mat`\n",
    "    for i in range(n):  \n",
    "        for j in range(n):  \n",
    "            # Elementy nad przekątną (górna trójkątna część, j > i)\n",
    "            if j > i:\n",
    "                l[i][j] = 0  \n",
    "                d[i][j] = 0 \n",
    "            \n",
    "            # Elementy na przekątnej (j == i)\n",
    "            if j == i:\n",
    "                l[i][j] = 0  #\n",
    "                u[i][j] = 0  \n",
    "            \n",
    "            # Elementy pod przekątną (dolna trójkątna część, i > j)\n",
    "            if i > j:\n",
    "                u[i][j] = 0  \n",
    "                d[i][j] = 0  \n",
    "\n",
    "    # Zwracamy trzy macierze:\n",
    "    # L - macierz dolnotrójkątna,\n",
    "    # D - macierz diagonalna,\n",
    "    # U - macierz górnotrójkątna.\n",
    "    return l, d, u\n"
   ]
  },
  {
   "cell_type": "markdown",
   "metadata": {},
   "source": [
    "Funkcja LDU dzieli podaną macierz \n",
    "mat\n",
    "mat na trzy macierze składowe: \n",
    "L\n",
    "L, \n",
    "D\n",
    "D, i \n",
    "U\n",
    "U, które reprezentują odpowiednio dolną trójkątną macierz \n",
    "L\n",
    "L, diagonalną macierz \n",
    "D\n",
    "D, oraz górną trójkątną macierz \n",
    "U\n",
    "U."
   ]
  },
  {
   "cell_type": "code",
   "execution_count": 45,
   "metadata": {},
   "outputs": [],
   "source": [
    "n = 20\n",
    "A,b = generowanie_macierzy_A(n), generowanie_macierzy_b(n)\n",
    "\n",
    "L, D, U = ldu(A)\n",
    "n = len(A)\n",
    "N = np.linalg.inv(D + L)\n",
    "M = np.dot(-N, U)\n",
    "error = 10**(-8)\n",
    "\n"
   ]
  },
  {
   "cell_type": "code",
   "execution_count": 43,
   "metadata": {},
   "outputs": [],
   "source": [
    "def gauss_siedel(b, N, M, n, error):\n",
    "    x_0 = np.zeros(n)\n",
    "\n",
    "    # Pierwsze przybliżenie rozwiązania:\n",
    "    # x = M * x_0 + N * b\n",
    "    x = np.dot(M, x_0) + np.dot(N, b)\n",
    "\n",
    "    # Pętla iteracyjna, która trwa, dopóki norma różnicy między kolejnymi przybliżeniami (x - x_0) w normie maksymalnej (∞) jest większa niż zdefiniowany błąd\n",
    "    while np.linalg.norm(x - x_0, np.inf) > error:\n",
    "        x_0 = x \n",
    "        x = np.dot(M, x_0) + np.dot(N, b)  # nowe przybliżenie rozwiązania\n",
    "\n",
    "    return x\n"
   ]
  },
  {
   "cell_type": "code",
   "execution_count": null,
   "metadata": {},
   "outputs": [],
   "source": [
    "#sprawdza, czy metoda iteracyjna (np. metoda Gaussa-Seidla lub Jacobiego) jest zbieżna\n",
    "zbieżność = max(np.abs(np.linalg.eig(M)[0])) < 1"
   ]
  },
  {
   "cell_type": "code",
   "execution_count": 44,
   "metadata": {},
   "outputs": [
    {
     "name": "stdout",
     "output_type": "stream",
     "text": [
      "Rozwiązanie dla błędu 1e-08: \n",
      "x = [-7.73502692e+00 -2.07259422e+00 -5.55349942e-01 -1.48805551e-01\n",
      " -3.98722579e-02 -1.06834772e-02 -2.86164694e-03 -7.63106890e-04\n",
      " -1.90777544e-04 -8.89354711e-10  1.90775724e-04  7.63104969e-04\n",
      "  2.86164492e-03  1.06834752e-02  3.98722561e-02  1.48805549e-01\n",
      "  5.55349941e-01  2.07259421e+00  7.73502692e+00  2.88675135e+01]\n",
      "Zbieżność rozwiązania: True\n"
     ]
    }
   ],
   "source": [
    "result = gauss_siedel(b, N, M, n, error)\n",
    "print(f\"Rozwiązanie dla błędu {error}: \\nx = {result}\")\n",
    "print(f\"Zbieżność rozwiązania: {zbieżność}\")"
   ]
  },
  {
   "cell_type": "markdown",
   "metadata": {},
   "source": [
    "<div style=\"text-align:center; font-size:24px; font-family:'Georgia'; font-weight:bold; color:plum;\">\n",
    "    Rozwiązanie 2\n",
    "</div>"
   ]
  },
  {
   "cell_type": "code",
   "execution_count": 49,
   "metadata": {},
   "outputs": [
    {
     "name": "stdout",
     "output_type": "stream",
     "text": [
      "Zbieżność uzyskana po 16 iteracjach.\n",
      "Rozwiązanie równania metodą Gaussa-Seidla:\n",
      "[-7.73502692e+00 -2.07259422e+00 -5.55349946e-01 -1.48805569e-01\n",
      " -3.98723089e-02 -1.06835729e-02 -2.86178496e-03 -7.63270075e-04\n",
      " -1.90942830e-04 -1.48728579e-07  1.90656370e-04  7.63016564e-04\n",
      "  2.86158408e-03  1.06834359e-02  3.98722321e-02  1.48805535e-01\n",
      "  5.55349933e-01  2.07259421e+00  7.73502692e+00  2.88675135e+01]\n",
      "\n"
     ]
    }
   ],
   "source": [
    "n=20\n",
    "\n",
    "def gauss_seidel2(n, tol=1e-6, max_iter=1000):\n",
    "    A = np.zeros((n, n))\n",
    "    for i in range(n):\n",
    "        A[i, i] = 4  \n",
    "        if i < n - 1:\n",
    "            A[i, i + 1] = -1  \n",
    "            A[i + 1, i] = -1 \n",
    "\n",
    "    # Warunki brzegowe \n",
    "    A[0, -1] = 1\n",
    "    A[-1, 0] = 1\n",
    "\n",
    "    # Tworzenie wektora b\n",
    "    b = np.zeros(n)\n",
    "    b[-1] = 100  # Warunek brzegowy\n",
    "\n",
    "    x = np.zeros(n)\n",
    "\n",
    "    # Iteracyjny algorytm Gaussa-Seidla\n",
    "    for iteration in range(max_iter):\n",
    "        x_new = x.copy()  # Tworzymy kopię wektora x jako bazę dla nowego przybliżenia\n",
    "        for i in range(n):\n",
    "            # Obliczanie sum dla elementów poniżej i powyżej aktualnego\n",
    "            sum_lower = np.dot(A[i, :i], x_new[:i])  \n",
    "            sum_upper = np.dot(A[i, i + 1:], x[i + 1:])  \n",
    "            x_new[i] = (b[i] - sum_lower - sum_upper) / A[i, i]\n",
    "\n",
    "        # zbieżność\n",
    "        if np.linalg.norm(x_new - x, ord=2) < tol:\n",
    "            print(f\"Zbieżność uzyskana po {iteration + 1} iteracjach.\")\n",
    "            x = x_new\n",
    "            break\n",
    "        x = x_new  \n",
    "    else:\n",
    "        print(\"Uzyskano maksymalną liczbę iteracji bez zbieżności.\")\n",
    "\n",
    "    return x\n",
    "\n",
    "rozwiązanie= gauss_seidel2(n)\n",
    "print(f\"Rozwiązanie równania metodą Gaussa-Seidla:\\n{rozwiązanie}\\n\")\n"
   ]
  },
  {
   "cell_type": "markdown",
   "metadata": {},
   "source": [
    "**Zadanie 3**\n",
    "\n",
    "**Treść zadania:**\n",
    "\n",
    "Rozwiąż układ równań z Zadania 2 dowolną metodą dokładną. Możesz skorzystać z funkcji bibliotecznych, takich jak rozwiązanie układu równań przy użyciu eliminacji Gaussa, rozkładu LU lub innych metod dostępnych w bibliotekach numerycznych. \n",
    "\n",
    "Porównaj nakład obliczeń dla metody dokładnej i metody iteracyjnej (Gaussa-Seidla) z Zadania 2.\n",
    "\n",
    "**Opis zadania:**\n",
    "\n",
    "Celem zadania jest:\n",
    "1. Rozwiązanie układu równań z Zadania 2 za pomocą metody dokładnej.\n",
    "2. Porównanie efektywności obliczeniowej obu metod:\n",
    "   - Metody iteracyjnej (Gaussa-Seidla),\n",
    "   - Metody dokładnej (z użyciem funkcji bibliotecznych).\n",
    "3. Wnioski na temat różnic w nakładzie obliczeń, dokładności oraz czasu wykonania obliczeń.\n"
   ]
  },
  {
   "cell_type": "markdown",
   "metadata": {},
   "source": [
    "<div style=\"text-align:center; font-size:24px; font-family:'Georgia'; font-weight:bold; color:plum;\">\n",
    "    Rozwiązanie (do metody drugiej z zadania 2)\n",
    "</div>"
   ]
  },
  {
   "cell_type": "code",
   "execution_count": 53,
   "metadata": {},
   "outputs": [],
   "source": [
    "n=20\n",
    "\n",
    "def gauss_seidel2(n, tol=1e-6, max_iter=1000):\n",
    "    A = np.zeros((n, n))\n",
    "    for i in range(n):\n",
    "        A[i, i] = 4  \n",
    "        if i < n - 1:\n",
    "            A[i, i + 1] = -1  \n",
    "            A[i + 1, i] = -1 \n",
    "\n",
    "    # Warunki brzegowe \n",
    "    A[0, -1] = 1\n",
    "    A[-1, 0] = 1\n",
    "\n",
    "    # Tworzenie wektora b\n",
    "    b = np.zeros(n)\n",
    "    b[-1] = 100  # Warunek brzegowy\n",
    "\n",
    "    x = np.zeros(n)\n",
    "\n",
    "    # Iteracyjny algorytm Gaussa-Seidla\n",
    "    for iteration in range(max_iter):\n",
    "        x_new = x.copy()  # Tworzymy kopię wektora x jako bazę dla nowego przybliżenia\n",
    "        for i in range(n):\n",
    "            # Obliczanie sum dla elementów poniżej i powyżej aktualnego\n",
    "            sum_lower = np.dot(A[i, :i], x_new[:i])  \n",
    "            sum_upper = np.dot(A[i, i + 1:], x[i + 1:])  \n",
    "            x_new[i] = (b[i] - sum_lower - sum_upper) / A[i, i]\n",
    "\n",
    "        # zbieżność\n",
    "        if np.linalg.norm(x_new - x, ord=2) < tol:\n",
    "            print(f\"Zbieżność uzyskana po {iteration + 1} iteracjach.\")\n",
    "            x = x_new\n",
    "            break\n",
    "        x = x_new  \n",
    "    else:\n",
    "        print(\"Uzyskano maksymalną liczbę iteracji bez zbieżności.\")\n",
    "\n",
    "    return x, A, b, iteration + 1\n",
    "\n",
    "\n"
   ]
  },
  {
   "cell_type": "code",
   "execution_count": 88,
   "metadata": {},
   "outputs": [
    {
     "name": "stdout",
     "output_type": "stream",
     "text": [
      "Zbieżność uzyskana po 16 iteracjach.\n",
      "Rozwiązanie metodą Gaussa-Seidela:\n",
      "[-7.73502692e+00 -2.07259422e+00 -5.55349946e-01 -1.48805569e-01\n",
      " -3.98723089e-02 -1.06835729e-02 -2.86178496e-03 -7.63270075e-04\n",
      " -1.90942830e-04 -1.48728579e-07  1.90656370e-04  7.63016564e-04\n",
      "  2.86158408e-03  1.06834359e-02  3.98722321e-02  1.48805535e-01\n",
      "  5.55349933e-01  2.07259421e+00  7.73502692e+00  2.88675135e+01]\n",
      "Czas obliczeń metodą Gaussa-Seidela: 0.004174 sekund, liczba iteracji: 16\n",
      "\n",
      "Rozwiązanie metodą dokładną (np.linalg.solve):\n",
      "[-7.73502692e+00 -2.07259421e+00 -5.55349941e-01 -1.48805549e-01\n",
      " -3.98722562e-02 -1.06834753e-02 -2.86164518e-03 -7.63105381e-04\n",
      " -1.90776345e-04 -3.63138871e-20  1.90776345e-04  7.63105381e-04\n",
      "  2.86164518e-03  1.06834753e-02  3.98722562e-02  1.48805549e-01\n",
      "  5.55349941e-01  2.07259421e+00  7.73502692e+00  2.88675135e+01]\n",
      "Czas obliczeń metodą dokładną: 0.000188 sekund\n",
      "\n",
      "Maksymalna różnica między wynikami obu metod: 1.664849e-07\n"
     ]
    }
   ],
   "source": [
    "import time\n",
    "\n",
    "n = 20\n",
    "\n",
    "# metoda Gaussa-Seidela\n",
    "start_time = time.time()\n",
    "x_gs,A, b, iterations_gs = gauss_seidel2(n)\n",
    "time_gs = time.time() - start_time\n",
    "\n",
    "# metoda dokładna\n",
    "start_time = time.time()\n",
    "x_exact = np.linalg.solve(A, b)\n",
    "time_exact = time.time() - start_time\n",
    "\n",
    "print(f\"Rozwiązanie metodą Gaussa-Seidela:\\n{x_gs}\")\n",
    "print(f\"Czas obliczeń metodą Gaussa-Seidela: {time_gs:.6f} sekund, liczba iteracji: {iterations_gs}\")\n",
    "\n",
    "print(f\"\\nRozwiązanie metodą dokładną (np.linalg.solve):\\n{x_exact}\")\n",
    "print(f\"Czas obliczeń metodą dokładną: {time_exact:.6f} sekund\")\n",
    "\n",
    "# Porównanie błędu między metodami\n",
    "error = np.linalg.norm(x_gs - x_exact, ord=np.inf)\n",
    "print(f\"\\nMaksymalna różnica między wynikami obu metod: {error:.6e}\")\n"
   ]
  },
  {
   "cell_type": "markdown",
   "metadata": {},
   "source": [
    "Dla naszego konkretnego w zadaniu układu równań metoda dokładna okazuje się szybsza, więc przy tym rozmiarze macierzy metoda bezpośrednia miała mniejszy nakład obliczeń. Jednak dla większych macierzy metoda Gaussa-Seidla mogłaby być bardziej efektywna, szczególnie jeśli osiąga zbieżność w niewielkiej liczbie iteracji."
   ]
  },
  {
   "cell_type": "markdown",
   "metadata": {},
   "source": [
    "Złożoność obliczeniowa:\n",
    "1. Gauss-Seidel:\n",
    "- ldu() ma złożoność $O(n^2)$ - dwie pętle of 1 do n\n",
    "- każda operacja na macierzach ma złożoność $O(n^2)$, ponieważ wykonujemy je na każdym wierszu, iterując po każdej kolumnie, całkowita złożonośc tych operacji zależy jednak od liczby iteracji $k$, którą ustalimy (wybierając odpowiednią wielkość błędu)\n",
    "- całkowity nakład obliczeń w tym wypadku wynosi $O(k\\cdot n^2)$\n",
    "- dla szybko zbiegających rozwiązań $k$ będzie małe, a co za tym idzie - złożoność będzie rzędu $O(n^2)$\n",
    "- w najgroszym wypadku $(k=n)$ osiągniemy nakład rzędu $O(n^3)$\n",
    "\n",
    "2. Gauss\n",
    "- Dla każdego wiersza wykonujemy operacje o złożoności $O(n)$, a dla każdego kroku wiersza $k$ (których jest $n$) wykonujemy $n$ takich kroków. \n",
    "- Całkowita złożoność tej metody jest równa $O(n^3)$ (dla każdej macierzy)\n",
    "\n",
    "3. Porównanie \n",
    "- Metoda Gaussa-Seidla jest bardziej efektywna dla układów równań (w szczególności dużych macierzy) z szybko zbiegającymi rozwiązaniami"
   ]
  },
  {
   "cell_type": "markdown",
   "metadata": {},
   "source": [
    "**Zadanie 4**\n",
    "\n",
    "**Treść zadania:**\n",
    "\n",
    "Niech macierz $$ B \\in \\mathbb{R}^{20 \\times 20} $$ będzie górną macierzą dwudiagonalną o elementach:\n",
    "- 0.025, 0.05, 0.075, ... , 0.5 na głównej przekątnej,\n",
    "- oraz wszystkich elementach równych 5 na przekątnej ponad główną.\n",
    "\n",
    "Oblicz i przedstaw na wykresie:\n",
    "$$\n",
    "\\eta_k = \\frac{\\|x^{(k)}\\|_2}{\\|x^{(0)}\\|_2}, \\quad k = 1, \\ldots, 100,\n",
    "$$\n",
    "gdzie:\n",
    "$$\n",
    "x^{(k+1)} = B x^{(k)}, \\quad x^{(0)} = (1, 1, \\ldots, 1)^T.\n",
    "$$\n",
    "\n",
    "Pokaż, że początkowo \\( \\eta_k > 10^{14} \\), a dopiero po \\( 25 \\) iteracjach wielkość ta zaczyna maleć. Wyznacz najmniejsze \\( k \\), dla którego:\n",
    "$$\n",
    "\\|x^{(k)}\\|_2 < \\|x^{(0)}\\|_2.\n",
    "$$\n",
    "\n",
    "**Opis zadania:**\n",
    "\n",
    "Celem zadania jest:\n",
    "1. Zbudowanie macierzy \\( B \\) zgodnie z podanym opisem.\n",
    "2. Przeprowadzenie iteracji zgodnie z formułą:\n",
    "   $$\n",
    "   x^{(k+1)} = B x^{(k)}.\n",
    "   $$\n",
    "3. Obliczenie wartości \\( \\eta_k \\) dla \\( k = 1, \\ldots, 100 \\) i przedstawienie wyników na wykresie.\n",
    "4. Wykazanie, że początkowo \\( \\eta_k > 10^{14} \\) i wskazanie iteracji \\( k \\), od której wartości \\( \\eta_k \\) zaczynają maleć.\n",
    "5. Wyznaczenie najmniejszej wartości \\( k \\), dla której:\n",
    "   $$\n",
    "   \\|x^{(k)}\\|_2 < \\|x^{(0)}\\|_2.\n",
    "   $$\n"
   ]
  },
  {
   "cell_type": "markdown",
   "metadata": {},
   "source": [
    "<div style=\"text-align:center; font-size:24px; font-family:'Georgia'; font-weight:bold; color:plum;\">\n",
    "    Rozwiązanie\n",
    "</div>"
   ]
  },
  {
   "cell_type": "code",
   "execution_count": 105,
   "metadata": {},
   "outputs": [],
   "source": [
    "#generowanie górnej macierzy dwudiagonalnej \n",
    "def górna_macierz_dwudiagonalna(n):\n",
    "    mat = np.zeros((n,n))\n",
    "    mat[0,0] = 0.025\n",
    "    mat[0][1] = 5\n",
    "    for i in range(1,n-1):\n",
    "        mat[i][i] = mat[i-1][i-1] + 0.025\n",
    "        mat[i][i+1] = 5\n",
    "    mat[n-1][n-1] = mat[n-2][n-2] + 0.025\n",
    "    return mat"
   ]
  },
  {
   "cell_type": "code",
   "execution_count": 106,
   "metadata": {},
   "outputs": [],
   "source": [
    "def x_k(k, n, B):\n",
    "    x = np.ones(n)\n",
    "    for i in range(k):\n",
    "        x = np.dot(x, B)\n",
    "    return x\n",
    "\n",
    "def eta(k, n, B):\n",
    "    return np.linalg.norm(x_k(k, n, B), 2) / np.linalg.norm(x_k(0, n, B), 2)"
   ]
  },
  {
   "cell_type": "markdown",
   "metadata": {},
   "source": [
    "**Opis funkcji x_k**\n",
    "\n",
    "Funkcja oblicza wektor $$\\mathbf{x}^{(k)}$$ po k-tej iteracji, zgodnie z regułą:\n",
    "\n",
    "$$\n",
    "\\mathbf{x}^{(k+1)} = \\mathbf{B} \\cdot \\mathbf{x}^{(k)}\n",
    "$$\n",
    "\n",
    "Gdzie: \n",
    "- $\\mathbf{x}^{(k)}$ jest wektorem początkowym, tutaj przyjmowanym jako wektor jedynek\n",
    "\n"
   ]
  },
  {
   "cell_type": "markdown",
   "metadata": {},
   "source": [
    "**Opis funkcji eta**\n",
    "\n",
    "Funkcja oblicza wartość współczynnika $\\eta_k$, który jest stosunkiem normy $x^{(k)} $ do normy $x^{(0)}$, zgodnie z formułą:\n",
    "\n",
    "$$\n",
    "\\eta_k = \\frac{\\|x^{(k)}\\|_2}{\\|x^{(0)}\\|_2},\n",
    "$$\n",
    "\n"
   ]
  },
  {
   "cell_type": "code",
   "execution_count": 107,
   "metadata": {},
   "outputs": [],
   "source": [
    "etas = []\n",
    "B = górna_macierz_dwudiagonalna(20)\n",
    "for k in range(1, 100):\n",
    "    etas.append(eta(k,20, B))"
   ]
  },
  {
   "cell_type": "code",
   "execution_count": 117,
   "metadata": {},
   "outputs": [
    {
     "data": {
      "image/png": "[encoded data removed]",
      "text/plain": [
       "<Figure size 1000x600 with 1 Axes>"
      ]
     },
     "metadata": {},
     "output_type": "display_data"
    }
   ],
   "source": [
    "import matplotlib.pyplot as plt\n",
    "\n",
    "ks = np.linspace(1,k+1,k)\n",
    "plt.figure(figsize=(10, 6))\n",
    "\n",
    "plt.plot(ks, etas, marker='o', label=r'$\\eta_k$', color=\"darkcyan\")\n",
    "plt.title(r'Wykres $\\eta_k$ dla iteracji $x^{(k+1)} = B x^{(k)}$', fontsize=16)\n",
    "plt.xlabel(\"$k$\")\n",
    "plt.ylabel(\"$\\\\eta_k$\")\n",
    "plt.vlines(26,0,max(etas),linestyle=\"--\",color=\"navy\", label=f'k = {26}')\n",
    "plt.xticks(fontsize=12)\n",
    "plt.yticks(fontsize=12)\n",
    "plt.tight_layout()\n",
    "plt.legend()\n",
    "plt.show()\n"
   ]
  },
  {
   "cell_type": "code",
   "execution_count": 93,
   "metadata": {},
   "outputs": [
    {
     "name": "stdout",
     "output_type": "stream",
     "text": [
      "Indeks maksimum to: 26, za tym punktem wartości maleją\n",
      "Najmniejsze szukane k to: 86\n"
     ]
    }
   ],
   "source": [
    "print(f\"Indeks maksimum to: {etas.index(max(etas))+1}, za tym punktem wartości maleją\")\n",
    "\n",
    "for k,eta in enumerate(etas):\n",
    "    if eta < 1:\n",
    "        print(f\"Najmniejsze szukane k to: {k}\")\n",
    "        break"
   ]
  }
 ],
 "metadata": {
  "kernelspec": {
   "display_name": "base",
   "language": "python",
   "name": "python3"
  },
  "language_info": {
   "codemirror_mode": {
    "name": "ipython",
    "version": 3
   },
   "file_extension": ".py",
   "mimetype": "text/x-python",
   "name": "python",
   "nbconvert_exporter": "python",
   "pygments_lexer": "ipython3",
   "version": "3.9.13"
  }
 },
 "nbformat": 4,
 "nbformat_minor": 2
}
