{
 "cells": [
  {
   "cell_type": "markdown",
   "metadata": {},
   "source": [
    "<div style=\"text-align: center; font-family: 'Georgia'; font-size: 19px;\">\n",
    "    <h2>Lista 2</h2>\n",
    "</div>"
   ]
  },
  {
   "cell_type": "markdown",
   "metadata": {},
   "source": [
    "<div style=\"text-align;font-family: 'Georgia'; font-size: 10px;\">\n",
    "    <h2>Zanim przejdziemy konkretnie do zadań 4-9 to zaimplementujemy odpowiednie funkcje, które posłużą nam przy ich wykonywaniu. <br> Dodatkowo zadania powinny zostać rozwiązane przy pomocy własnej implementacji metody eliminacji Gaussa z częściowym wyborem <br> elementu podstawowego oraz dla porównania - przy pomocy funkcji w bibliotece\n",
    "scipy.</h2>\n",
    "</div>  "
   ]
  },
  {
   "cell_type": "code",
   "execution_count": 33,
   "metadata": {},
   "outputs": [],
   "source": [
    "import numpy as np\n",
    "from scipy.linalg import solve, det"
   ]
  },
  {
   "cell_type": "markdown",
   "metadata": {},
   "source": [
    "Zaczniemy od zaimplementowania funkcji przydatnej przy metodzie eliminacji Gaussa, która zamienia miejscami wybrane przez nas wiersze macierzy. Argumentami funkcji będzie nasza macierz oraz indeksy wierszy, które chcemy zamienić miejscami. Następnie po zliczeniu liczby kolum, iterujemy po każdej kolumnie jednego z wierszy i zamienimy z odpowiadającymi im wartościami z drugiego wybranego przez nas wiersza."
   ]
  },
  {
   "cell_type": "code",
   "execution_count": 3,
   "metadata": {},
   "outputs": [],
   "source": [
    "def zamiana_wierszy(matrix, i, j):\n",
    "    #określamy liczbę kolumn macierzy i sprawdzamy czy macierz została prawidłowo zapisana i podana jako argument\n",
    "    liczba_kolumn = len(matrix[0])\n",
    "    for row in matrix:\n",
    "        if len(row) != liczba_kolumn:\n",
    "            raise ValueError(\"Błąd: Wszystkie wiersze w macierzy muszą mieć taką samą liczbę kolumn.\")\n",
    "    n = liczba_kolumn\n",
    "    for k in range(n):\n",
    "        # Przechowujemy wartość z i-tego wiersza i-tej kolumny w zmiennej tymczasowej 't'\n",
    "        t = matrix[i][k]\n",
    "        # Przypisujemy do i-tego wiersza wartość z j-tego wiersza w tej samej kolumnie\n",
    "        matrix[i][k] = matrix[j][k]\n",
    "         # Przypisujemy do j-tego wiersza poprzednią wartość z i-tego wiersza (przechowaną w 't')\n",
    "        matrix[j][k] = t"
   ]
  },
  {
   "cell_type": "markdown",
   "metadata": {},
   "source": [
    "Możemy teraz zaimplementować funkcję, która wykona eliminacje gaussa na podanej przez nas macierzy, przekształcając ją do postaci schodkowej. Funkcja ta działa na zasadzie przekształcania macierzy przy użyciu operacji na wierszach, aby uzyskać zera poniżej głównych elementów (pivotów) i przygotować macierz do dalszego rozwiązywania układu równań.(wykorzystamy w niej powyżej zaimplemnentowaną funkcję do zamiany wierszy miejscami) . Poniżej znajduje się kod wraz z komentrzami objaśniającymi poszczególne kwestie:"
   ]
  },
  {
   "cell_type": "code",
   "execution_count": 11,
   "metadata": {},
   "outputs": [],
   "source": [
    "def eliminacja_gaussa(matrix):\n",
    "    liczba_zamienionych_wierszy = 0                        \n",
    "    matrix = np.array(matrix, dtype=float)       \n",
    "    m = len(matrix)                           # Liczba wierszy macierzy\n",
    "    n = len(matrix[0])                        # Liczba kolumn macierzy\n",
    "    k = 0                                  # Indeks aktualnej kolumny\n",
    "    w = 0                                  # Indeks aktualngo wiersza\n",
    "    \n",
    "    while w < m and k < n:\n",
    "        # Znajdujemy wiersz z największym elementem w kolumnie k \n",
    "        i_max = np.argmax(np.abs(matrix[w:, k])) + w\n",
    "        \n",
    "        # Jeśli największy element jest zerem, przechodzimy do następnej kolumny\n",
    "        if matrix[i_max, k] == 0:\n",
    "            k += 1\n",
    "        else:\n",
    "            # Jeśli wiersz z największym elementem nie jest aktualnym wierszem, zamień wiersze\n",
    "            if i_max != w:\n",
    "                zamiana_wierszy(matrix, w, i_max)\n",
    "                liczba_zamienionych_wierszy += 1               \n",
    "            \n",
    "            # Przeprowadamy teraz eliminację Gaussa, aby uzyskać zera poniżej pivota\n",
    "            for i in range(w+1, m):\n",
    "                f = matrix[i, k] / matrix[w, k]     \n",
    "                matrix[i, k] = 0                 \n",
    "                for j in range(k+1, n):\n",
    "                    matrix[i, j] = matrix[i, j] - matrix[w, j] * f   \n",
    "            \n",
    "            # Przejdź do następnego wiersza i kolumny (następny pivot)\n",
    "            w += 1\n",
    "            k += 1\n",
    "    \n",
    "    return matrix, liczba_zamienionych_wierszy             \n"
   ]
  },
  {
   "cell_type": "markdown",
   "metadata": {},
   "source": [
    "Gdy mamy już dwie powyższe funkcje, jedną do zamiany wierszy miejscami, a drugą do wykonania eliminacji gaussa, to możemy zaimplementować funkcję, która wykonuje rozwiązanie układu równań liniowych zapisanego w postaci macierzy schodkowej (wynikowej macierzy po eliminacji Gaussa) za pomocą podstawiania wstecznego."
   ]
  },
  {
   "cell_type": "code",
   "execution_count": 17,
   "metadata": {},
   "outputs": [],
   "source": [
    "def rozwiazanie_układu_równań_liniowych(matrix):\n",
    "    m = len(matrix)\n",
    "    wyniki = np.zeros(m)\n",
    "    \n",
    "    # Pętla wykonująca podstawianie wsteczne \n",
    "    for i in range(m-1, -1, -1):\n",
    "        # Przypisujemy wyraz wolny z macierzy do wyniku dla zmiennej x_i\n",
    "        wyniki[i] = matrix[i][m]\n",
    "        \n",
    "        # Pętla do odejmowania wartości znanych już zmiennych z wcześniejszych kroków\n",
    "        for j in range(i+1, m):\n",
    "            # Odejmujemy iloczyn elementu macierzy i znanego wyniku z poprzedniego kroku\n",
    "            wyniki[i] -= matrix[i][j] * wyniki[j]\n",
    "        \n",
    "        # Dzielimy przez współczynnik przy x_i, aby otrzymać ostateczny wynik dla zmiennej x_i\n",
    "        wyniki[i] = wyniki[i] / matrix[i][i]\n",
    "    return wyniki\n",
    " \n"
   ]
  },
  {
   "cell_type": "markdown",
   "metadata": {},
   "source": [
    "Kolejną przydatną funkcją, którą wykorzystamy w rozwiązaniu zadań będzie funkcja obliczająca wyznacznik macierzy trójkątnej. "
   ]
  },
  {
   "cell_type": "code",
   "execution_count": 7,
   "metadata": {},
   "outputs": [],
   "source": [
    "def wyznacznik_macierzy_trójkątnej(matrix, liczba_zamienionych_wierszy):\n",
    "    n = len(matrix)\n",
    "    wynik = 1\n",
    "    for i in range(n):\n",
    "        wynik *= matrix[i][i]\n",
    "\n",
    "    # Jeśli liczba zamian wierszy była nieparzysta, wyznacznik zmienia znak\n",
    "    # Mnożymy wynik przez (-1) podniesione do potęgi zamiana_wierszy\n",
    "    # (jeśli zamiana_wierszy jest parzysta, wynik pozostaje taki sam; jeśli nieparzysta, zmienia znak)\n",
    "    return wynik * (-1) ** liczba_zamienionych_wierszy"
   ]
  },
  {
   "cell_type": "markdown",
   "metadata": {},
   "source": [
    "Do wykonania zadań zostało nam zaimplementować jeszcze jedną funkcje, która wykonuje eliminację Gaussa-Jordana na macierzy. Ta metoda służy do przekształcenia macierzy do postaci zredukowanej, w której zarówno elementy poniżej, jak i powyżej głównej przekątnej są zerami. Wynikowa macierz umożliwia bezpośrednie odczytanie rozwiązań układu równań liniowych."
   ]
  },
  {
   "cell_type": "code",
   "execution_count": 8,
   "metadata": {},
   "outputs": [],
   "source": [
    "def metoda_eliminacji_gaussa_jordana(matrix):\n",
    "    liczba_zamienionych_wierszy = 0\n",
    "    matrix = np.array(matrix, dtype=float)\n",
    "    m = len(matrix)        \n",
    "    n = len(matrix[0])     \n",
    "    w = 0\n",
    "    k = 0\n",
    "\n",
    "    # Pierwsza część: eliminacja Gaussa (zerowanie elementów poniżej pivota)\n",
    "    while w < m and k < n:\n",
    "        i_max = np.argmax(np.abs(matrix[w:, k])) + w\n",
    "\n",
    "        if matrix[i_max, k] == 0:\n",
    "            k += 1\n",
    "        else:\n",
    "            if i_max != w:\n",
    "                zamiana_wierszy(matrix, w, i_max)\n",
    "                liczba_zamienionych_wierszy += 1  \n",
    "            for i in range(w+1, m):\n",
    "                f = matrix[i, k] / matrix[w, k]\n",
    "                matrix[i, k] = 0\n",
    "                for j in range(k+1, n):\n",
    "                    matrix[i, j] = matrix[i, j] - matrix[w, j] * f\n",
    "            w += 1\n",
    "            k += 1\n",
    "\n",
    "    # Druga część: eliminacja Jordana (zerowanie elementów powyżej pivota)\n",
    "    for i in range(m-1, -1, -1):\n",
    "        # Znajdujemy pozycje głównego elementu (pivota) w wierszu i\n",
    "        j = np.argmax(np.abs(matrix[i]))\n",
    "\n",
    "        # Normalizacja pivota, aby wartość w matrix[i][j] wynosiła 1\n",
    "        matrix[i] /= matrix[i][j]\n",
    "\n",
    "        # Zerujemy elementów powyżej pivota w kolumnie j\n",
    "        for k in range(i-1, -1, -1):\n",
    "            # Odejmowanie odpowiednio przemnożonego wiersza i od wiersza k, aby uzyskać zero w kolumnie j\n",
    "            matrix[k] -= matrix[i] * matrix[k][j]\n",
    "\n",
    "    return matrix, liczba_zamienionych_wierszy\n"
   ]
  },
  {
   "cell_type": "markdown",
   "metadata": {},
   "source": [
    "<div style=\"text-align;font-family: 'Georgia'; font-size: 10px;\">\n",
    "    <h2>Zadanie 4</h2>\n",
    "</div>  "
   ]
  },
  {
   "cell_type": "markdown",
   "metadata": {},
   "source": [
    "W zadaniu 4 należy rozwiązać układ równań $$ {A} \\vec{x} = \\vec{b} $$"
   ]
  },
  {
   "cell_type": "code",
   "execution_count": 12,
   "metadata": {},
   "outputs": [],
   "source": [
    "A = np.array([\n",
    "    [0, 0, 2, 1, 2],\n",
    "    [0, 1, 0, 2, -1],\n",
    "    [1, 2, 0, -2, 0],\n",
    "    [0, 0, 0, -1, 1],\n",
    "    [0, 1, -1, 1, -1]\n",
    "])\n",
    "\n",
    "b = np.array([1, 1, -4, -2, -1])\n",
    "\n",
    "rozszerzona_macierz = np.column_stack((A, b))"
   ]
  },
  {
   "cell_type": "markdown",
   "metadata": {},
   "source": [
    "Do rozwiązania naszego układy skorzystamy z metody eliminacji Gaussa. Posłużymy się wcześniej zaimplementowanym kodem:"
   ]
  },
  {
   "cell_type": "code",
   "execution_count": 18,
   "metadata": {},
   "outputs": [
    {
     "name": "stdout",
     "output_type": "stream",
     "text": [
      "[ 2. -2.  1.  1. -1.]\n"
     ]
    }
   ],
   "source": [
    "print(rozwiazanie_układu_równań_liniowych(eliminacja_gaussa(rozszerzona_macierz)[0]))"
   ]
  },
  {
   "cell_type": "markdown",
   "metadata": {},
   "source": [
    "Następnie dla porównania skorzystamy w celu rozwiązania tego układu równań z funkcji solve z modułu scipy.linalg z biblioteki SciPy. \n"
   ]
  },
  {
   "cell_type": "code",
   "execution_count": 19,
   "metadata": {},
   "outputs": [],
   "source": [
    "b2 = np.array([[1], [1], [-4], [-2], [-1]])"
   ]
  },
  {
   "cell_type": "code",
   "execution_count": 20,
   "metadata": {},
   "outputs": [
    {
     "name": "stdout",
     "output_type": "stream",
     "text": [
      "[[ 2.]\n",
      " [-2.]\n",
      " [ 1.]\n",
      " [ 1.]\n",
      " [-1.]]\n"
     ]
    }
   ],
   "source": [
    "print(solve(A,b2))"
   ]
  },
  {
   "cell_type": "markdown",
   "metadata": {},
   "source": [
    "Jak widać oba wyniki wyszły identycznie, co może wskazywać, że nasza funkcja do eliminacji gaussa została prawidłowo zaimplementowana."
   ]
  },
  {
   "cell_type": "markdown",
   "metadata": {},
   "source": [
    "<div style=\"text-align;font-family: 'Georgia'; font-size: 10px;\">\n",
    "    <h2>Zadanie 5</h2>\n",
    "</div>  "
   ]
  },
  {
   "cell_type": "markdown",
   "metadata": {},
   "source": [
    "W zadaniu 5 należy wyznaczyć współczynniki wielomianu: $$y = a_0 + a_1 x + a_2 x^2 + a_3 x^3 + a_4 x^4$$\n"
   ]
  },
  {
   "cell_type": "markdown",
   "metadata": {},
   "source": [
    "który przechodzi przez punkty (0, −1), (1, 1), (3, 3), (5, 2) i (6, −2)."
   ]
  },
  {
   "cell_type": "code",
   "execution_count": 22,
   "metadata": {},
   "outputs": [],
   "source": [
    "A = np.array([\n",
    "    [1, 0, 0, 0, 0],\n",
    "    [1, 1, 1, 1, 1],\n",
    "    [1, 3, 9, 27, 81],\n",
    "    [1, 5, 25, 125, 625],\n",
    "    [1, 6, 36, 216, 1296]\n",
    "])\n",
    "\n",
    "b = np.array([-1, 1, 3, 2, -2])\n",
    "rozszerzona_macierz = np.column_stack((A, b))"
   ]
  },
  {
   "cell_type": "markdown",
   "metadata": {},
   "source": [
    "Macierz 𝐴 w kodzie jest stworzona tak, aby odpowiadała równaniom wynikającym z podstawienia wartości x do kolejnych potęg w wielomianie. "
   ]
  },
  {
   "cell_type": "code",
   "execution_count": 23,
   "metadata": {},
   "outputs": [
    {
     "name": "stdout",
     "output_type": "stream",
     "text": [
      "[-1.          2.68333333 -0.875       0.21666667 -0.025     ]\n"
     ]
    }
   ],
   "source": [
    "print(rozwiazanie_układu_równań_liniowych(eliminacja_gaussa(rozszerzona_macierz)[0]))"
   ]
  },
  {
   "cell_type": "code",
   "execution_count": 24,
   "metadata": {},
   "outputs": [
    {
     "name": "stdout",
     "output_type": "stream",
     "text": [
      "[[-1.        ]\n",
      " [ 2.68333333]\n",
      " [-0.875     ]\n",
      " [ 0.21666667]\n",
      " [-0.025     ]]\n"
     ]
    }
   ],
   "source": [
    "b2 = np.array([[-1], [1], [3], [2], [-2]])\n",
    "print(solve(A,b2))"
   ]
  },
  {
   "cell_type": "markdown",
   "metadata": {},
   "source": [
    "<div style=\"text-align;font-family: 'Georgia'; font-size: 10px;\">\n",
    "    <h2>Zadanie 6</h2>\n",
    "</div>  "
   ]
  },
  {
   "cell_type": "markdown",
   "metadata": {},
   "source": [
    "W zadaniu 6 należy rozwiązać układ równań $$ {A} \\vec{x} = \\vec{b} $$"
   ]
  },
  {
   "cell_type": "code",
   "execution_count": 29,
   "metadata": {},
   "outputs": [
    {
     "name": "stdout",
     "output_type": "stream",
     "text": [
      "[1. 1. 1. 1.]\n"
     ]
    }
   ],
   "source": [
    "A = np.array([\n",
    "    [3.5, 2.77, -0.76, 1.8],\n",
    "    [-1.8, 2.68, 3.44, -0.09],\n",
    "    [0.27, 5.07, 6.9, 1.61],\n",
    "    [1.71, 5.45, 2.68, 1.71],\n",
    "], dtype=float)\n",
    "\n",
    "b = np.array([7.31, 4.23, 13.85, 11.55])\n",
    "\n",
    "rozszerzona_macierz = np.column_stack((A, b))\n",
    "\n",
    "b2 = np.array([[7.31], [4.23], [13.85], [11.55]])\n",
    "\n",
    "x = rozwiazanie_układu_równań_liniowych(eliminacja_gaussa(rozszerzona_macierz)[0])\n",
    "print(x)"
   ]
  },
  {
   "cell_type": "code",
   "execution_count": 30,
   "metadata": {},
   "outputs": [
    {
     "name": "stdout",
     "output_type": "stream",
     "text": [
      "[[1.]\n",
      " [1.]\n",
      " [1.]\n",
      " [1.]]\n"
     ]
    }
   ],
   "source": [
    "print(solve(A,b2))"
   ]
  },
  {
   "cell_type": "markdown",
   "metadata": {},
   "source": [
    "Następnie należy wyznaczyć:$$ detA \\, \\, \\, i \\, \\, \\, A\\vec{x}$$ \n"
   ]
  },
  {
   "cell_type": "code",
   "execution_count": 27,
   "metadata": {},
   "outputs": [
    {
     "name": "stdout",
     "output_type": "stream",
     "text": [
      "det(A) = -0.22579734000000884\n"
     ]
    }
   ],
   "source": [
    "print(f\"det(A) = {wyznacznik_macierzy_trójkątnej(eliminacja_gaussa(A)[0], eliminacja_gaussa(A)[1])}\")"
   ]
  },
  {
   "cell_type": "code",
   "execution_count": 34,
   "metadata": {},
   "outputs": [
    {
     "name": "stdout",
     "output_type": "stream",
     "text": [
      "Wyznacznik macierzy A: -0.22579733999999502\n"
     ]
    }
   ],
   "source": [
    "det_A = det(A)\n",
    "print(\"Wyznacznik macierzy A:\", det_A)"
   ]
  },
  {
   "cell_type": "code",
   "execution_count": 32,
   "metadata": {},
   "outputs": [
    {
     "name": "stdout",
     "output_type": "stream",
     "text": [
      "Ax = [ 7.31  4.23 13.85 11.55]\n",
      "r = [8.88178420e-16 0.00000000e+00 1.77635684e-15 1.77635684e-15]\n"
     ]
    }
   ],
   "source": [
    "Ax = np.dot(A, x)\n",
    "print(f\"Ax = {Ax}\")\n",
    "\n",
    "reszta = b - Ax\n",
    "print(f\"r = {reszta}\")"
   ]
  },
  {
   "cell_type": "markdown",
   "metadata": {},
   "source": [
    "Nasz wektor reszt wskazuje, że wyniki obliczone są z dużą dokładnościa, a błąd jest mały (rzędu $10^{-15}$ i $10^{-16}$). Najbardziej dokładnie okazuje się rowiązanie $x_{2}$."
   ]
  },
  {
   "cell_type": "markdown",
   "metadata": {},
   "source": [
    "<div style=\"text-align;font-family: 'Georgia'; font-size: 10px;\">\n",
    "    <h2>Zadanie 7</h2>\n",
    "</div>  "
   ]
  },
  {
   "cell_type": "markdown",
   "metadata": {},
   "source": [
    "W zadaniu 7 ponownie należy rowiązać układ równań."
   ]
  },
  {
   "cell_type": "code",
   "execution_count": 36,
   "metadata": {},
   "outputs": [
    {
     "name": "stdout",
     "output_type": "stream",
     "text": [
      "[-1.  1. -1.  1. -1.  1. -1.  1.]\n",
      "[[-1.]\n",
      " [ 1.]\n",
      " [-1.]\n",
      " [ 1.]\n",
      " [-1.]\n",
      " [ 1.]\n",
      " [-1.]\n",
      " [ 1.]]\n"
     ]
    }
   ],
   "source": [
    "A = np.array([\n",
    "    [10, -2, -1, 2, 3, 1, -4, 7],\n",
    "    [5, 11, 3, 10, -3, 3, 3, -4],\n",
    "    [7, 12, 1, 5, 3, -12, 2, 3],\n",
    "    [8, 7, -2, 1, 3, 2, 2, 4],\n",
    "    [2, -15, -1, 1, 4, -1, 8, 3],\n",
    "    [4, 2, 9, 1, 12, -1, 4, 1],\n",
    "    [-1, 4, -7, -1, 1, 1, -1, -3],\n",
    "    [-1, 3, 4, 1, 3, -4, 7, 6]\n",
    "], dtype=float)\n",
    "\n",
    "b = np.array([0, 12, -5, 3, -25, -26, 9, -7])\n",
    "\n",
    "rozszerzona_macierz = np.column_stack((A, b))\n",
    "\n",
    "b2 = np.array([[0], [12], [-5], [3], [-25], [-26], [9], [-7]])\n",
    "\n",
    "x = rozwiazanie_układu_równań_liniowych(eliminacja_gaussa(rozszerzona_macierz)[0])\n",
    "print(x)\n",
    "\n",
    "print(solve(A,b2))"
   ]
  },
  {
   "cell_type": "markdown",
   "metadata": {},
   "source": [
    "Wynik przy pomocy zaimplementowanej własnoręcznie metody i przy pomocy funkcji z biblioteki Scipy wyszedł ponownie zgodny."
   ]
  },
  {
   "cell_type": "markdown",
   "metadata": {},
   "source": [
    "<div style=\"text-align;font-family: 'Georgia'; font-size: 10px;\">\n",
    "    <h2>Zadanie 8</h2>\n",
    "</div>  "
   ]
  },
  {
   "cell_type": "markdown",
   "metadata": {},
   "source": [
    "W zadaniu 8 należy znaleźć macierz odwrotną."
   ]
  },
  {
   "cell_type": "code",
   "execution_count": 37,
   "metadata": {},
   "outputs": [],
   "source": [
    "A = np.array([\n",
    "    [2, -1, 0, 0, 0, 0],\n",
    "    [-1, 2, -1, 0, 0, 0],\n",
    "    [0, -1, 2, -1, 0, 0],\n",
    "    [0, 0, -1, 2, -1, 0],\n",
    "    [0, 0, 0, -1, 2, -1],\n",
    "    [0, 0, 0, 0, -1, 5]\n",
    "], dtype=float)"
   ]
  },
  {
   "cell_type": "code",
   "execution_count": 41,
   "metadata": {},
   "outputs": [],
   "source": [
    "def macierz_odwrotna(mat):\n",
    "    mat = np.array(mat, dtype=float)\n",
    "    m = len(mat)  \n",
    "    n = len(mat[0])  \n",
    "\n",
    "    # Sprawdzenie, czy macierz jest kwadratowa \n",
    "    if m != n:\n",
    "        raise(ValueError(\"Macierz powinna byc kwadratowa\"))\n",
    "\n",
    "    # Sprawdzenie, czy macierz jest osobliwa \n",
    "    if np.isclose(wyznacznik_macierzy_trójkątnej(eliminacja_gaussa(mat)[0], eliminacja_gaussa(mat)[1]), 0):\n",
    "        raise(ValueError(\"Macierz 0sobliwa, nie ma odwrotności\"))\n",
    "\n",
    "    h = 0  \n",
    "    mat_inv = np.eye(m)  # Tworzenie macierzy jednostkowej o tym samym rozmiarze co mat\n",
    "\n",
    "    while h < m:\n",
    "        i_max = np.argmax(np.abs(mat[h:, h])) + h\n",
    "        if mat[i_max, h] == 0:\n",
    "            raise(ValueError(\"Macierz osobliwa, nie ma odwrotności\"))\n",
    "        else:\n",
    "            if i_max != h:\n",
    "                zamiana_wierszy(mat, h, i_max)  \n",
    "                zamiana_wierszy(mat_inv, h, i_max) \n",
    "\n",
    "            for i in range(h + 1, m):  \n",
    "                f = mat[i, h] / mat[h, h] \n",
    "                mat[i, h] = 0\n",
    "                mat_inv[i] -= mat_inv[h] * f  \n",
    "                for j in range(h + 1, n): \n",
    "                    mat[i, j] -= mat[h, j] * f\n",
    "            h += 1  \n",
    "\n",
    "    #pętla do normalizacji wierszy i uzyskania macierzy odwrotnej\n",
    "    for i in range(n - 1, -1, -1):\n",
    "        mat_inv[i] /= mat[i, i]  # Dzielimy każdy element wiersza przez element główny\n",
    "        mat[i] /= mat[i, i]  # Normalizujemy wiersz w oryginalnej macierzy\n",
    "        for k in range(i):  # Dla wszystkich wierszy powyżej wiersza i\n",
    "            mat_inv[k] -= mat_inv[i] * mat[k, i]  # Modyfikowanie macierzy odwrotnej\n",
    "            mat[k] -= mat[i] * mat[k, i]  # Modyfikowanie oryginalnej macierzy\n",
    "\n",
    "    return mat_inv  \n"
   ]
  },
  {
   "cell_type": "code",
   "execution_count": 43,
   "metadata": {},
   "outputs": [
    {
     "name": "stdout",
     "output_type": "stream",
     "text": [
      "[[0.84 0.68 0.52 0.36 0.2  0.04]\n",
      " [0.68 1.36 1.04 0.72 0.4  0.08]\n",
      " [0.52 1.04 1.56 1.08 0.6  0.12]\n",
      " [0.36 0.72 1.08 1.44 0.8  0.16]\n",
      " [0.2  0.4  0.6  0.8  1.   0.2 ]\n",
      " [0.04 0.08 0.12 0.16 0.2  0.24]]\n",
      "[[0.84 0.68 0.52 0.36 0.2  0.04]\n",
      " [0.68 1.36 1.04 0.72 0.4  0.08]\n",
      " [0.52 1.04 1.56 1.08 0.6  0.12]\n",
      " [0.36 0.72 1.08 1.44 0.8  0.16]\n",
      " [0.2  0.4  0.6  0.8  1.   0.2 ]\n",
      " [0.04 0.08 0.12 0.16 0.2  0.24]]\n"
     ]
    }
   ],
   "source": [
    "print((macierz_odwrotna(A)))\n",
    "\n",
    "#porównanie wyniku przy pomocy funkcji inv z modułu linalg\n",
    "print(np.linalg.inv(A))"
   ]
  },
  {
   "cell_type": "markdown",
   "metadata": {},
   "source": [
    "Macierz $A^{-1}$ nie jest trójdiagonalna, ponieważ macierz trójdiagonalna jest macierzą, której wszystkie współczynniki, które nie znajdują się ani na głównej przekątnej, ani na przekątnej tuż powyżej, ani na przekątnej tuż poniżej, wynoszą zero. W naszym przypadku tak nie ma. "
   ]
  },
  {
   "cell_type": "code",
   "execution_count": 45,
   "metadata": {},
   "outputs": [
    {
     "name": "stdout",
     "output_type": "stream",
     "text": [
      "False\n"
     ]
    }
   ],
   "source": [
    "def czy_trójdiagonalna(matrix):\n",
    "    # Sprawdzenie, czy macierz jest kwadratowa\n",
    "    rows, cols = matrix.shape\n",
    "    if rows != cols:\n",
    "        return False\n",
    "    \n",
    "    # Sprawdzenie elementów poza główną przekątną oraz pierwszą nad i pod główną\n",
    "    for i in range(rows):\n",
    "        for j in range(cols):\n",
    "            # Sprawdzenie, czy elementy poza trójdiagonalnymi przekątnymi są zerowe\n",
    "            if abs(i - j) > 1 and matrix[i, j] != 0:\n",
    "                return False\n",
    "    return True\n",
    "\n",
    "print(czy_trójdiagonalna((macierz_odwrotna(A))))"
   ]
  },
  {
   "cell_type": "markdown",
   "metadata": {},
   "source": [
    "<div style=\"text-align;font-family: 'Georgia'; font-size: 10px;\">\n",
    "    <h2>Zadanie 9</h2>\n",
    "</div>  "
   ]
  },
  {
   "cell_type": "markdown",
   "metadata": {},
   "source": [
    "W zadaniu 9 również musimy znaleźć macierz odwrotną."
   ]
  },
  {
   "cell_type": "code",
   "execution_count": 52,
   "metadata": {},
   "outputs": [],
   "source": [
    "A = np.array([\n",
    "    [1, 3, -9, 6, 4],\n",
    "    [2, -1, 6, 7, 1],\n",
    "    [3, 2, -3, 15, 5],\n",
    "    [8, -1, 1, 4, 2],\n",
    "    [11, 1, -2, 18, 7]\n",
    "], dtype=float)"
   ]
  },
  {
   "cell_type": "code",
   "execution_count": 47,
   "metadata": {},
   "outputs": [
    {
     "ename": "ValueError",
     "evalue": "Macierz 0sobliwa, nie ma odwrotności",
     "output_type": "error",
     "traceback": [
      "\u001b[1;31m---------------------------------------------------------------------------\u001b[0m",
      "\u001b[1;31mValueError\u001b[0m                                Traceback (most recent call last)",
      "\u001b[1;32m~\\AppData\\Local\\Temp\\ipykernel_27084\\1317568867.py\u001b[0m in \u001b[0;36m<module>\u001b[1;34m\u001b[0m\n\u001b[1;32m----> 1\u001b[1;33m \u001b[0mprint\u001b[0m\u001b[1;33m(\u001b[0m\u001b[1;33m(\u001b[0m\u001b[0mmacierz_odwrotna\u001b[0m\u001b[1;33m(\u001b[0m\u001b[0mA\u001b[0m\u001b[1;33m)\u001b[0m\u001b[1;33m)\u001b[0m\u001b[1;33m)\u001b[0m\u001b[1;33m\u001b[0m\u001b[1;33m\u001b[0m\u001b[0m\n\u001b[0m",
      "\u001b[1;32m~\\AppData\\Local\\Temp\\ipykernel_27084\\2033712902.py\u001b[0m in \u001b[0;36mmacierz_odwrotna\u001b[1;34m(mat)\u001b[0m\n\u001b[0;32m     10\u001b[0m     \u001b[1;31m# Sprawdzenie, czy macierz jest osobliwa\u001b[0m\u001b[1;33m\u001b[0m\u001b[1;33m\u001b[0m\u001b[0m\n\u001b[0;32m     11\u001b[0m     \u001b[1;32mif\u001b[0m \u001b[0mnp\u001b[0m\u001b[1;33m.\u001b[0m\u001b[0misclose\u001b[0m\u001b[1;33m(\u001b[0m\u001b[0mwyznacznik_macierzy_trójkątnej\u001b[0m\u001b[1;33m(\u001b[0m\u001b[0meliminacja_gaussa\u001b[0m\u001b[1;33m(\u001b[0m\u001b[0mmat\u001b[0m\u001b[1;33m)\u001b[0m\u001b[1;33m[\u001b[0m\u001b[1;36m0\u001b[0m\u001b[1;33m]\u001b[0m\u001b[1;33m,\u001b[0m \u001b[0meliminacja_gaussa\u001b[0m\u001b[1;33m(\u001b[0m\u001b[0mmat\u001b[0m\u001b[1;33m)\u001b[0m\u001b[1;33m[\u001b[0m\u001b[1;36m1\u001b[0m\u001b[1;33m]\u001b[0m\u001b[1;33m)\u001b[0m\u001b[1;33m,\u001b[0m \u001b[1;36m0\u001b[0m\u001b[1;33m)\u001b[0m\u001b[1;33m:\u001b[0m\u001b[1;33m\u001b[0m\u001b[1;33m\u001b[0m\u001b[0m\n\u001b[1;32m---> 12\u001b[1;33m         \u001b[1;32mraise\u001b[0m\u001b[1;33m(\u001b[0m\u001b[0mValueError\u001b[0m\u001b[1;33m(\u001b[0m\u001b[1;34m\"Macierz 0sobliwa, nie ma odwrotności\"\u001b[0m\u001b[1;33m)\u001b[0m\u001b[1;33m)\u001b[0m\u001b[1;33m\u001b[0m\u001b[1;33m\u001b[0m\u001b[0m\n\u001b[0m\u001b[0;32m     13\u001b[0m \u001b[1;33m\u001b[0m\u001b[0m\n\u001b[0;32m     14\u001b[0m     \u001b[0mh\u001b[0m \u001b[1;33m=\u001b[0m \u001b[1;36m0\u001b[0m\u001b[1;33m\u001b[0m\u001b[1;33m\u001b[0m\u001b[0m\n",
      "\u001b[1;31mValueError\u001b[0m: Macierz 0sobliwa, nie ma odwrotności"
     ]
    }
   ],
   "source": [
    "print((macierz_odwrotna(A)))"
   ]
  },
  {
   "cell_type": "code",
   "execution_count": 48,
   "metadata": {},
   "outputs": [
    {
     "name": "stdout",
     "output_type": "stream",
     "text": [
      "[[-1.06340236e+15 -1.06340236e+15 -1.06340236e+15 -2.12680472e+15\n",
      "   2.12680472e+15]\n",
      " [-5.05116121e+15 -5.05116121e+15 -5.05116121e+15 -1.01023224e+16\n",
      "   1.01023224e+16]\n",
      " [-8.45888241e+14 -8.45888241e+14 -8.45888241e+14 -1.69177648e+15\n",
      "   1.69177648e+15]\n",
      " [-7.02563008e-17 -9.54097912e-18  1.00000000e+00  1.00000000e+00\n",
      "  -1.00000000e+00]\n",
      " [ 2.15097296e+15  2.15097296e+15  2.15097296e+15  4.30194591e+15\n",
      "  -4.30194591e+15]]\n"
     ]
    }
   ],
   "source": [
    "print(np.linalg.inv(A))"
   ]
  },
  {
   "cell_type": "code",
   "execution_count": 55,
   "metadata": {},
   "outputs": [
    {
     "name": "stdout",
     "output_type": "stream",
     "text": [
      "5.928590951498336e-14\n"
     ]
    }
   ],
   "source": [
    "print(wyznacznik_macierzy_trójkątnej(eliminacja_gaussa(A)[0],eliminacja_gaussa(A)[1]))\n",
    "\n"
   ]
  },
  {
   "cell_type": "code",
   "execution_count": 54,
   "metadata": {},
   "outputs": [
    {
     "name": "stdout",
     "output_type": "stream",
     "text": [
      "4.137662434899883e-14\n"
     ]
    }
   ],
   "source": [
    "print(np.linalg.det(A))"
   ]
  },
  {
   "cell_type": "markdown",
   "metadata": {},
   "source": [
    "Wyznacznik macierzy A powinien być równy zero według obliczeń na kartce oraz sprawdzenia obliczeń w internecie na stronach, które potrafią wyliczyć wyznacznik.Przez pewne przybliżenia wykonywane przez komputer nie jest on równy zero, co pokazuje małą dokładność. Liczona zatem jest macierz odwrotna z macierzy osobliwej, która jest nieodwracalna, więc wynik nie jest prawdziwy. W niektórych przypadkach funkcja inv w NumPy może próbować obliczyć tzw. pseudo-odwrotność lub generować wyniki, które są numerycznie bardzo niestabilne. Takie wyniki są zazwyczaj obarczone błędami numerycznymi i nie można ich traktować jako rzeczywistej odwrotności."
   ]
  }
 ],
 "metadata": {
  "kernelspec": {
   "display_name": "base",
   "language": "python",
   "name": "python3"
  },
  "language_info": {
   "codemirror_mode": {
    "name": "ipython",
    "version": 3
   },
   "file_extension": ".py",
   "mimetype": "text/x-python",
   "name": "python",
   "nbconvert_exporter": "python",
   "pygments_lexer": "ipython3",
   "version": "3.9.13"
  }
 },
 "nbformat": 4,
 "nbformat_minor": 2
}
