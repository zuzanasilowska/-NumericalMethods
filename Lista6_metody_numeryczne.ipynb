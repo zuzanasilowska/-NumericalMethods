{
 "cells": [
  {
   "cell_type": "markdown",
   "metadata": {},
   "source": [
    "<div style=\"text-align:center; font-size:29px; font-family:'Georgia'; font-weight:bold; color:plum;\">\n",
    "    Lista 6\n",
    "</div>"
   ]
  },
  {
   "cell_type": "code",
   "execution_count": 5,
   "metadata": {},
   "outputs": [],
   "source": [
    "import numpy as np\n",
    "import matplotlib.pyplot as plt\n",
    "import scipy\n",
    "import math"
   ]
  },
  {
   "cell_type": "markdown",
   "metadata": {},
   "source": [
    "**Zadanie 1**"
   ]
  },
  {
   "cell_type": "code",
   "execution_count": 2,
   "metadata": {},
   "outputs": [],
   "source": [
    "def trapezoidal_rule(y, a, b):\n",
    "    h = b - a\n",
    "    return h / 2 * (y[0] + y[1])"
   ]
  },
  {
   "cell_type": "code",
   "execution_count": null,
   "metadata": {},
   "outputs": [],
   "source": [
    "def chained_trapezoidal_rule(x,y):\n",
    "    result = 0\n",
    "    for i in range(1, len(x)):\n",
    "        # Obliczanie wartości dla każdego przedziału za pomocą reguły trapezów\n",
    "        result += trapezoidal_rule(y[i-1:i+1], x[i-1], x[i])\n",
    "    return result"
   ]
  },
  {
   "cell_type": "code",
   "execution_count": 6,
   "metadata": {},
   "outputs": [
    {
     "name": "stdout",
     "output_type": "stream",
     "text": [
      "Wyliczony czas: 1.2984952383952837s\n"
     ]
    }
   ],
   "source": [
    "v = np.array([1.0, 1.8, 2.4, 3.5, 4.4, 5.1, 6.0])\n",
    "P = np.array([4.7, 12.2, 19.0, 31.8, 40.1, 43.8, 43.2]) * 1000\n",
    "v_div_P = v / P\n",
    "\n",
    "t = 2000 * chained_trapezoidal_rule(v, v_div_P)\n",
    "print(f\"Wyliczony czas: {t}s\")"
   ]
  },
  {
   "cell_type": "markdown",
   "metadata": {},
   "source": [
    "**Zadanie 2**"
   ]
  },
  {
   "cell_type": "code",
   "execution_count": 7,
   "metadata": {},
   "outputs": [],
   "source": [
    "def simpson_rule(y, a, b):\n",
    "    h = b - a\n",
    "    return h / 3 * (y[0] + 4 * y[1] + y[2])"
   ]
  },
  {
   "cell_type": "code",
   "execution_count": null,
   "metadata": {},
   "outputs": [],
   "source": [
    "def chained_simpson_rule(f, a, b, n):\n",
    "    x = np.linspace(a, b, n)  #Generujemy równomiernie rozmieszczone węzły w przedziale [a, b].\n",
    "    y = f(x)  #Obliczamy wartości funkcji f(x) w punktach x.\n",
    "    \n",
    "    result = 0 \n",
    "\n",
    "    #Iterujemy przez punkty co dwa indeksy (co drugi przedział Simpsona).\n",
    "    for i in range(2, len(x), 2):\n",
    "        #Dla każdego przedziału korzystamy z funkcji simpson_rule, która oblicza\n",
    "        #przybliżoną wartość całki dla trzech punktów: x[i-2], x[i-1], x[i].\n",
    "        result += simpson_rule(y[i-2:i+1], x[i-2], x[i])\n",
    "\n",
    "    return result \n"
   ]
  },
  {
   "cell_type": "code",
   "execution_count": 9,
   "metadata": {},
   "outputs": [
    {
     "name": "stdout",
     "output_type": "stream",
     "text": [
      "Reguła Simpsona dla 3 węzłów: -0.6666666666666666\n",
      "Reguła Simpsona dla 5 węzłów: -0.6666666666666665\n",
      "Reguła Simpsona dla 7 węzłów: -0.6666666666666667\n"
     ]
    }
   ],
   "source": [
    "func1 = lambda x: np.cos(2 * np.arccos(x))\n",
    "\n",
    "print(f\"Reguła Simpsona dla 3 węzłów: {chained_simpson_rule(func1,-1,1,3)}\")\n",
    "print(f\"Reguła Simpsona dla 5 węzłów: {chained_simpson_rule(func1,-1,1,5)}\")\n",
    "print(f\"Reguła Simpsona dla 7 węzłów: {chained_simpson_rule(func1,-1,1,7)}\")"
   ]
  },
  {
   "cell_type": "markdown",
   "metadata": {},
   "source": [
    "Wiemy, że błąd metody Simpsona wynosi \n",
    "$$\n",
    "|E(f)| = \\frac{(b-a)^5}{180n^4}f^{(4)}(\\xi)\n",
    "$$\n",
    "Tymczasem czwarta pochodna naszej funkcji $\\frac{d^4}{dx^4}f = \\cos{(2\\arccos{(x)})} = 0$\n",
    "\n",
    "A zatem błąd tej metody w naszym przypadku wynosi 0 i dlatego, niezależnie od wyboru liczby węzłów, otrzymujemy niemalże ten sam wynik (różnica wynosi jedynie $10^{-16}$ i pochodzi od przybliżeń komputera)"
   ]
  },
  {
   "cell_type": "markdown",
   "metadata": {},
   "source": [
    "**Zadanie 3**"
   ]
  },
  {
   "cell_type": "markdown",
   "metadata": {},
   "source": [
    "Wykonujemy podstawienie $x^3 = \\frac{1}{t}$. A zatem\n",
    "\n",
    "$$\n",
    "t=\\frac{1}{x^3} \\\\\n",
    "$$\n",
    "$$\n",
    "x = t^{-\\frac{1}{3}} \\\\\n",
    "$$\n",
    "$$\n",
    "dx = -\\frac{t^{-\\frac{4}{3}}}{3} dt\n",
    "$$"
   ]
  },
  {
   "cell_type": "markdown",
   "metadata": {},
   "source": [
    "W miarę jak $x$ dąży do nieskończoności, $t$ dąży do zera. Natomiast gdy $x$ dąży do $1$, to $t$ również. Całkę po podstawieniu możemy zapisać zatem jako\n",
    "\n",
    "$$\n",
    "\\int_{0}^{1}\\frac{\\frac{1}{3}t^{-\\frac{4}{3}}}{1 + t^{-\\frac{4}{3}}}dt\n",
    "$$"
   ]
  },
  {
   "cell_type": "code",
   "execution_count": 10,
   "metadata": {},
   "outputs": [],
   "source": [
    "func2 = lambda t: 1/3 * t**(-4/3) / (1 + t**(-4/3))\n",
    "\n",
    "ts = np.linspace(10**(-8),1,6)\n",
    "ys = func2(ts)"
   ]
  },
  {
   "cell_type": "markdown",
   "metadata": {},
   "source": [
    "Funkcja nie jest zdefiniowana w punkcie $0$, więc jako początek przedziału weźmy coś bardzo bliskiego zeru."
   ]
  },
  {
   "cell_type": "code",
   "execution_count": 11,
   "metadata": {},
   "outputs": [
    {
     "name": "stdout",
     "output_type": "stream",
     "text": [
      "Wynik dla 6 węzłów uzyskany metodą trapezów: 0.24369830085228922\n"
     ]
    }
   ],
   "source": [
    "print(f\"Wynik dla 6 węzłów uzyskany metodą trapezów: {chained_trapezoidal_rule(ts,ys)}\")"
   ]
  },
  {
   "cell_type": "markdown",
   "metadata": {},
   "source": [
    "**Zadanie 4**"
   ]
  },
  {
   "cell_type": "code",
   "execution_count": 12,
   "metadata": {},
   "outputs": [],
   "source": [
    "from IPython.display import display, Markdown"
   ]
  },
  {
   "cell_type": "code",
   "execution_count": 13,
   "metadata": {},
   "outputs": [],
   "source": [
    "func15 = lambda x: 1 / np.sqrt(1 - np.sin(np.deg2rad(15)/2)**2 * np.sin(x)**2)\n",
    "func30 = lambda x: 1 / np.sqrt(1 - np.sin(np.deg2rad(30)/2)**2 * np.sin(x)**2)\n",
    "func45 = lambda x: 1 / np.sqrt(1 - np.sin(np.deg2rad(45)/2)**2 * np.sin(x)**2)\n",
    "func0 = lambda x: 1 / np.sqrt(1 - np.sin(np.deg2rad(0)/2)**2 * np.sin(x)**2)"
   ]
  },
  {
   "cell_type": "code",
   "execution_count": 14,
   "metadata": {},
   "outputs": [
    {
     "data": {
      "text/markdown": [
       "\n",
       "Wyniki otrzymane metodą trapezów: \n",
       "\n",
       "$h(15^\\circ) = 1.5775515023286166$\n",
       "\n",
       "$h(30^\\circ) = 1.5981418394918425$\n",
       "\n",
       "$h(45^\\circ) = 1.6335861374363974$\n",
       "\n",
       "$h(0) = 1.5707961697152477$\n",
       "\n",
       "Wynik dokładny (przybliżenie harmoniczne):\n",
       "\n",
       "$h(0) = 1.5707963267948966$\n"
      ],
      "text/plain": [
       "<IPython.core.display.Markdown object>"
      ]
     },
     "metadata": {},
     "output_type": "display_data"
    }
   ],
   "source": [
    "display(Markdown(\n",
    "   rf\"\"\"\n",
    "Wyniki otrzymane metodą trapezów: \n",
    "\n",
    "$h(15^\\circ) = {chained_simpson_rule(func15, 0, np.pi/2,10**7)}$\n",
    "\n",
    "$h(30^\\circ) = {chained_simpson_rule(func30, 0, np.pi/2,10**7)}$\n",
    "\n",
    "$h(45^\\circ) = {chained_simpson_rule(func45, 0, np.pi/2,10**7)}$\n",
    "\n",
    "$h(0) = {chained_simpson_rule(func0, 0, np.pi/2,10**7)}$\n",
    "\n",
    "Wynik dokładny (przybliżenie harmoniczne):\n",
    "\n",
    "$h(0) = {np.pi/2}$\n",
    "\"\"\"))"
   ]
  },
  {
   "cell_type": "markdown",
   "metadata": {},
   "source": [
    "**Zadanie 5**"
   ]
  },
  {
   "cell_type": "code",
   "execution_count": 15,
   "metadata": {},
   "outputs": [],
   "source": [
    "from scipy.special import roots_legendre"
   ]
  },
  {
   "cell_type": "code",
   "execution_count": null,
   "metadata": {},
   "outputs": [],
   "source": [
    "def gauss_legendre(f, a, b, n):\n",
    "    roots, weights = roots_legendre(n)\n",
    "    sum_result = 0\n",
    "    for i in range(n):\n",
    "         #Skalowanie węzłów z przedziału [-1, 1] do przedziału [a, b].\n",
    "        t = (b-a) / 2 * roots[i] + (b+a) / 2\n",
    "        #Obliczenie przyczynku do całki jako iloczynu wagi i wartości funkcji w punkcie t.\n",
    "        sum_result += weights[i] * f(t)\n",
    "    return (b-a) / 2 * sum_result"
   ]
  },
  {
   "cell_type": "code",
   "execution_count": 17,
   "metadata": {},
   "outputs": [],
   "source": [
    "func5 = lambda x: np.log(x) / (x**2 - 2*x + 2)"
   ]
  },
  {
   "cell_type": "code",
   "execution_count": 18,
   "metadata": {},
   "outputs": [
    {
     "name": "stdout",
     "output_type": "stream",
     "text": [
      "Metoda Gaussa-Legendre'a dla 2 węzłów: 0.6067250228624488\n",
      "Metoda Gaussa-Legendre'a dla 4 węzłów: 0.5847680362127091\n"
     ]
    }
   ],
   "source": [
    "print(f\"Metoda Gaussa-Legendre'a dla 2 węzłów: {gauss_legendre(func5, 1, np.pi, 2)}\")\n",
    "print(f\"Metoda Gaussa-Legendre'a dla 4 węzłów: {gauss_legendre(func5, 1, np.pi, 4)}\")"
   ]
  },
  {
   "cell_type": "markdown",
   "metadata": {},
   "source": [
    "**Zadanie 6**"
   ]
  },
  {
   "cell_type": "code",
   "execution_count": 19,
   "metadata": {},
   "outputs": [],
   "source": [
    "import pandas as pd\n",
    "\n",
    "f1 = lambda x: x**3 - 2 * x\n",
    "f2 = lambda x: np.sin(x)\n",
    "f3 = lambda x: np.exp(x)\n",
    "\n"
   ]
  },
  {
   "cell_type": "code",
   "execution_count": 20,
   "metadata": {},
   "outputs": [],
   "source": [
    "def forward(f, x, h):\n",
    "    return (f(x) - f(x-h)) / h"
   ]
  },
  {
   "cell_type": "code",
   "execution_count": 21,
   "metadata": {},
   "outputs": [],
   "source": [
    "def central(f, x, h):\n",
    "    return (f(x+h) - f(x-h)) / (2 * h)"
   ]
  },
  {
   "cell_type": "code",
   "execution_count": 22,
   "metadata": {},
   "outputs": [],
   "source": [
    "def central_fourth_order(f, x, h):\n",
    "    return (-f(x + 2*h) + 8*f(x + h) - 8*f(x - h) + f(x - 2*h)) / (12 * h)"
   ]
  },
  {
   "cell_type": "code",
   "execution_count": 23,
   "metadata": {},
   "outputs": [],
   "source": [
    "Df1_exact = 1\n",
    "Df2_exact = 1/2\n",
    "Df3_exact = 1\n",
    "\n",
    "points = [(f1, 1, Df1_exact), (f2, np.pi/3, Df2_exact), (f3, 0, Df3_exact)]\n",
    "h_values = [0.1, 0.01, 0.001]\n",
    "\n",
    "columns = [\"Pochodne\", \"h\", \"f'(x) - Df1\", \"f'(x) - Dc2\", \"f'(x) - Dc4\"]\n",
    "rows = []"
   ]
  },
  {
   "cell_type": "code",
   "execution_count": 24,
   "metadata": {},
   "outputs": [],
   "source": [
    "for func, x, exact in points:\n",
    "    func_label = f\"f1'(1)\" if func == f1 else f\"f2'(π/3)\" if func == f2 else \"f3'(0)\"\n",
    "    for h in h_values:\n",
    "        forward_error = abs(forward(func, x, h) - exact)\n",
    "        central_error = abs(central(func, x, h) - exact)\n",
    "        central_fourth_error = abs(central_fourth_order(func, x, h) - exact)\n",
    "        rows.append([func_label, h, forward_error, central_error, central_fourth_error])"
   ]
  },
  {
   "cell_type": "code",
   "execution_count": 25,
   "metadata": {},
   "outputs": [
    {
     "data": {
      "text/html": [
       "<div>\n",
       "<style scoped>\n",
       "    .dataframe tbody tr th:only-of-type {\n",
       "        vertical-align: middle;\n",
       "    }\n",
       "\n",
       "    .dataframe tbody tr th {\n",
       "        vertical-align: top;\n",
       "    }\n",
       "\n",
       "    .dataframe thead th {\n",
       "        text-align: right;\n",
       "    }\n",
       "</style>\n",
       "<table border=\"1\" class=\"dataframe\">\n",
       "  <thead>\n",
       "    <tr style=\"text-align: right;\">\n",
       "      <th></th>\n",
       "      <th>Pochodne</th>\n",
       "      <th>h</th>\n",
       "      <th>f'(x) - Df1</th>\n",
       "      <th>f'(x) - Dc2</th>\n",
       "      <th>f'(x) - Dc4</th>\n",
       "    </tr>\n",
       "  </thead>\n",
       "  <tbody>\n",
       "    <tr>\n",
       "      <th>0</th>\n",
       "      <td>f1'(1)</td>\n",
       "      <td>0.100</td>\n",
       "      <td>0.290000</td>\n",
       "      <td>1.000000e-02</td>\n",
       "      <td>1.554312e-15</td>\n",
       "    </tr>\n",
       "    <tr>\n",
       "      <th>1</th>\n",
       "      <td>f1'(1)</td>\n",
       "      <td>0.010</td>\n",
       "      <td>0.029900</td>\n",
       "      <td>1.000000e-04</td>\n",
       "      <td>8.437695e-15</td>\n",
       "    </tr>\n",
       "    <tr>\n",
       "      <th>2</th>\n",
       "      <td>f1'(1)</td>\n",
       "      <td>0.001</td>\n",
       "      <td>0.002999</td>\n",
       "      <td>1.000000e-06</td>\n",
       "      <td>8.881784e-16</td>\n",
       "    </tr>\n",
       "    <tr>\n",
       "      <th>3</th>\n",
       "      <td>f2'(π/3)</td>\n",
       "      <td>0.100</td>\n",
       "      <td>0.042432</td>\n",
       "      <td>8.329168e-04</td>\n",
       "      <td>1.664684e-06</td>\n",
       "    </tr>\n",
       "    <tr>\n",
       "      <th>4</th>\n",
       "      <td>f2'(π/3)</td>\n",
       "      <td>0.010</td>\n",
       "      <td>0.004322</td>\n",
       "      <td>8.333292e-06</td>\n",
       "      <td>1.666579e-10</td>\n",
       "    </tr>\n",
       "    <tr>\n",
       "      <th>5</th>\n",
       "      <td>f2'(π/3)</td>\n",
       "      <td>0.001</td>\n",
       "      <td>0.000433</td>\n",
       "      <td>8.333340e-08</td>\n",
       "      <td>9.209300e-14</td>\n",
       "    </tr>\n",
       "    <tr>\n",
       "      <th>6</th>\n",
       "      <td>f3'(0)</td>\n",
       "      <td>0.100</td>\n",
       "      <td>0.048374</td>\n",
       "      <td>1.667500e-03</td>\n",
       "      <td>3.337304e-06</td>\n",
       "    </tr>\n",
       "    <tr>\n",
       "      <th>7</th>\n",
       "      <td>f3'(0)</td>\n",
       "      <td>0.010</td>\n",
       "      <td>0.004983</td>\n",
       "      <td>1.666675e-05</td>\n",
       "      <td>3.333445e-10</td>\n",
       "    </tr>\n",
       "    <tr>\n",
       "      <th>8</th>\n",
       "      <td>f3'(0)</td>\n",
       "      <td>0.001</td>\n",
       "      <td>0.000500</td>\n",
       "      <td>1.666667e-07</td>\n",
       "      <td>4.540812e-14</td>\n",
       "    </tr>\n",
       "  </tbody>\n",
       "</table>\n",
       "</div>"
      ],
      "text/plain": [
       "   Pochodne      h  f'(x) - Df1   f'(x) - Dc2   f'(x) - Dc4\n",
       "0    f1'(1)  0.100     0.290000  1.000000e-02  1.554312e-15\n",
       "1    f1'(1)  0.010     0.029900  1.000000e-04  8.437695e-15\n",
       "2    f1'(1)  0.001     0.002999  1.000000e-06  8.881784e-16\n",
       "3  f2'(π/3)  0.100     0.042432  8.329168e-04  1.664684e-06\n",
       "4  f2'(π/3)  0.010     0.004322  8.333292e-06  1.666579e-10\n",
       "5  f2'(π/3)  0.001     0.000433  8.333340e-08  9.209300e-14\n",
       "6    f3'(0)  0.100     0.048374  1.667500e-03  3.337304e-06\n",
       "7    f3'(0)  0.010     0.004983  1.666675e-05  3.333445e-10\n",
       "8    f3'(0)  0.001     0.000500  1.666667e-07  4.540812e-14"
      ]
     },
     "execution_count": 25,
     "metadata": {},
     "output_type": "execute_result"
    }
   ],
   "source": [
    "df = pd.DataFrame(rows, columns=columns) \n",
    "df"
   ]
  },
  {
   "cell_type": "markdown",
   "metadata": {},
   "source": [
    "**Zadanie 7**"
   ]
  },
  {
   "cell_type": "code",
   "execution_count": 26,
   "metadata": {},
   "outputs": [],
   "source": [
    "def poly_interpol2(x,y): \n",
    "    n = len(x)\n",
    "    X = np.poly1d([1,0])\n",
    "    poly = 0\n",
    "    for i in range(n):\n",
    "        w = 1\n",
    "        for j in range(n):\n",
    "            if i != j:\n",
    "                w *= ((X-x[j]) / (x[i]-x[j]))\n",
    "        poly += w * y[i]\n",
    "    return poly"
   ]
  },
  {
   "cell_type": "code",
   "execution_count": 27,
   "metadata": {},
   "outputs": [],
   "source": [
    "def poly_derivative(coeffs):\n",
    "    n = len(coeffs) - 1\n",
    "    new_coeffs = []\n",
    "    for i in range(n):\n",
    "        new_coeffs.append(coeffs[i] * (n-i))\n",
    "    return np.poly1d(new_coeffs)\n",
    "\n"
   ]
  },
  {
   "cell_type": "code",
   "execution_count": 28,
   "metadata": {},
   "outputs": [],
   "source": [
    "def central_fourth_order2(x, xs, ys):\n",
    "    sorted_pairs = sorted(zip(xs, ys), key=lambda pair: pair[0])\n",
    "    xs_sorted, ys_sorted = zip(*sorted_pairs)\n",
    "    i = xs_sorted.index(x)\n",
    "    h = xs[i] - xs[i-1]\n",
    "    return (-ys_sorted[i+2] + 8*ys_sorted[i+1] - 8*ys_sorted[i-1] + ys_sorted[i-2]) / (12 * h)"
   ]
  },
  {
   "cell_type": "code",
   "execution_count": 30,
   "metadata": {},
   "outputs": [
    {
     "name": "stdout",
     "output_type": "stream",
     "text": [
      "Wynik metodą różnic centralnych: 0.5596358333333333\n",
      "Wynik metodą interpolacji wielomianowej: 0.559635833333333\n"
     ]
    }
   ],
   "source": [
    "xs = [0,0.1,0.2,0.3,0.4]\n",
    "ys = [0.00000, 0.078348, 0.138910, 0.192916, 0.244981]\n",
    "\n",
    "poly_interpol = poly_interpol2(xs,ys)\n",
    "poly_deriv = poly_derivative(poly_interpol.coeffs)\n",
    "\n",
    "print(f\"Wynik metodą różnic centralnych: {central_fourth_order2(0.2, xs, ys)}\")\n",
    "print(f\"Wynik metodą interpolacji wielomianowej: {poly_deriv(0.2)}\")"
   ]
  },
  {
   "cell_type": "markdown",
   "metadata": {},
   "source": [
    "**Zadanie 8**"
   ]
  },
  {
   "cell_type": "code",
   "execution_count": 31,
   "metadata": {},
   "outputs": [
    {
     "name": "stdout",
     "output_type": "stream",
     "text": [
      "Wyniki uzyskane z interpolacji wielomianowej:\n",
      "f'(0) = -8.56\n",
      "f''(0) = -0.5999999999999994\n"
     ]
    }
   ],
   "source": [
    "xs = [-2.2, -0.3, 0.8, 1.9]\n",
    "ys = [15.180, 10.962, 1.920, -2.040]\n",
    "\n",
    "poly = poly_interpol2(xs,ys)\n",
    "coeffs = poly.coeffs\n",
    "\n",
    "poly_prime = poly_derivative(coeffs)\n",
    "poly_bis = poly_derivative(poly_prime.coeffs)\n",
    "print(\"Wyniki uzyskane z interpolacji wielomianowej:\")\n",
    "print(f\"f'(0) = {poly_prime(0)}\")\n",
    "print(f\"f''(0) = {poly_bis(0)}\")"
   ]
  }
 ],
 "metadata": {
  "kernelspec": {
   "display_name": "base",
   "language": "python",
   "name": "python3"
  },
  "language_info": {
   "codemirror_mode": {
    "name": "ipython",
    "version": 3
   },
   "file_extension": ".py",
   "mimetype": "text/x-python",
   "name": "python",
   "nbconvert_exporter": "python",
   "pygments_lexer": "ipython3",
   "version": "3.9.21"
  }
 },
 "nbformat": 4,
 "nbformat_minor": 2
}
