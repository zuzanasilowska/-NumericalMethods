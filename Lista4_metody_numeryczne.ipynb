{
 "cells": [
  {
   "cell_type": "markdown",
   "metadata": {},
   "source": [
    "<div style=\"text-align:center; font-size:29px; font-family:'Georgia'; font-weight:bold; color:plum;\">\n",
    "    Lista 4\n",
    "</div>"
   ]
  },
  {
   "cell_type": "markdown",
   "metadata": {},
   "source": [
    "**Zadanie 1** \n",
    "\n",
    "Rozwiąż równanie: \n",
    "$$\n",
    "\\text{tg}(\\pi - x) - x = 0 \\tag{1}\n",
    "$$\n",
    "\n",
    "Na podstawie uzyskanych wyników wypełnij tabelę, korzystając z różnych metod numerycznych, takich jak:\n",
    "- Metoda bisekcji,\n",
    "- Metoda Brenta,\n",
    "- Metoda siecznych,\n",
    "- Metoda Newtona."
   ]
  },
  {
   "cell_type": "code",
   "execution_count": 3,
   "metadata": {},
   "outputs": [],
   "source": [
    "import numpy as np\n",
    "import matplotlib.pyplot as plt\n",
    "import scipy\n",
    "import math\n",
    "import cmath\n",
    "from random import random\n",
    "from scipy.optimize import fsolve"
   ]
  },
  {
   "cell_type": "markdown",
   "metadata": {},
   "source": [
    "- Na początku definiujemy naszą funkcje za pomocą składni lambda:"
   ]
  },
  {
   "cell_type": "code",
   "execution_count": 7,
   "metadata": {},
   "outputs": [],
   "source": [
    "f1 = lambda x: np.tan(np.pi - x) - x"
   ]
  },
  {
   "cell_type": "markdown",
   "metadata": {},
   "source": [
    "<div style=\"text-align:center; font-size:23px; font-family:'Georgia'; font-weight:bold; color:plum;\">\n",
    "    Metoda bisekcji\n",
    "</div>"
   ]
  },
  {
   "cell_type": "markdown",
   "metadata": {},
   "source": [
    "- Pierwszą metodą, którą zaimplementumemy będzie metoda bisekcji"
   ]
  },
  {
   "cell_type": "code",
   "execution_count": 8,
   "metadata": {},
   "outputs": [],
   "source": [
    "def bisekcja(f, a, b, e):\n",
    "    #liczymy wartość funkcji na końcach przedziału\n",
    "    fa, fb = f(a), f(b)\n",
    "\n",
    "    #sprawdzamy, czy jedno z końców przedziału jest już naszym szukanym miejscem zerowym\n",
    "    if fa == 0:\n",
    "        return a\n",
    "    if fb == 0:\n",
    "        return b\n",
    "    \n",
    "    #sprawdzamy, czy wartości funkcji na końcach przedziału mają przeciwny znak (warunek konieczny)\n",
    "    if fa * fb > 0:\n",
    "        raise(ValueError(\"Przedział jest źle dobrany. Szukane miejsce zerowe znajduje się poza przedziałem.\"))\n",
    "    else:\n",
    "        m = (a + b) / 2 #liczymy początkowy środek przedziału \n",
    "        fm = f(m) #wartość funkcji w naszym środkowym punkcie\n",
    "\n",
    "        # liczymy maksymalną liczbę iteracji wymaganą do osiągnięcia dokładności `error`\n",
    "        max_iter = int(math.ceil(math.log(abs(a-b)/e, 2)))\n",
    "        \n",
    "        num_add_mult = 11 #licznik operacji (dodawania/mnożenia)\n",
    "        num_iter = 1\n",
    "\n",
    "        for _ in range(max_iter):\n",
    "            #sprawdzamy w której części przedziału znajduje się miejsce zerowe \n",
    "            if fm * fb < 0:\n",
    "                a, b = m, b\n",
    "                fa = fm\n",
    "            elif fa * fm < 0:\n",
    "                a, b = a, m\n",
    "                fb = fm\n",
    "\n",
    "            m = (a + b) / 2 #nowy środek przedziału \n",
    "            fm = f(m)\n",
    "\n",
    "            num_iter += 1\n",
    "            num_add_mult += 6 \n",
    "\n",
    "            #sprawdzamy warunek stopu\n",
    "            if abs(fm) < e:\n",
    "                return m, fm, num_iter, num_add_mult\n",
    "            \n",
    "        return m, fm, num_iter, num_add_mult"
   ]
  },
  {
   "cell_type": "markdown",
   "metadata": {},
   "source": [
    "- Funkcja ta znajduje miejsca zerowe funkcji $f(x)$, na zadanym przedziale $[a,b]$ z określoną dokładnością $\\textit error$."
   ]
  },
  {
   "cell_type": "markdown",
   "metadata": {},
   "source": [
    "- Przykładowe użycie naszej funkcji (metoda bisekcji)"
   ]
  },
  {
   "cell_type": "code",
   "execution_count": 9,
   "metadata": {},
   "outputs": [],
   "source": [
    "x, fm, n1, n2 = bisekcja(f1, 1.7, 2.8, 1e-8)"
   ]
  },
  {
   "cell_type": "code",
   "execution_count": 10,
   "metadata": {},
   "outputs": [
    {
     "name": "stdout",
     "output_type": "stream",
     "text": [
      "Rozwiązanie równania: x = 2.0288\n",
      "f(x) = 6.53308918074913e-09\n",
      "Liczba iteracji: 28\n",
      "Liczba dodawań i mnożeń: 173\n"
     ]
    }
   ],
   "source": [
    "print(f\"Rozwiązanie równania: x = {x:6.4f}\\nf(x) = {fm}\\nLiczba iteracji: {n1}\\nLiczba dodawań i mnożeń: {n2}\")"
   ]
  },
  {
   "cell_type": "markdown",
   "metadata": {},
   "source": [
    "<div style=\"text-align:center; font-size:23px; font-family:'Georgia'; font-weight:bold; color:plum;\">\n",
    "    Metoda Brenta\n",
    "</div>"
   ]
  },
  {
   "cell_type": "markdown",
   "metadata": {},
   "source": [
    "- Drugą zaimplementowaną metodą będzie metoda Brenta. Metoda Brenta jest hybrydową metodą numeryczną do znajdowania miejsc zerowych funkcji $f(x)$ w zadanym przedziale $[𝑎,𝑏]$ i łączy zalety trzech metod (metody bisekcji, metody siecznych, interpolacji kwadratowej)."
   ]
  },
  {
   "cell_type": "code",
   "execution_count": 11,
   "metadata": {},
   "outputs": [],
   "source": [
    "def brent(f, a, b, e):\n",
    "    #implementujemy początek taki sam jak w poprzednim kodzie\n",
    "    fa, fb = f(a), f(b)\n",
    "    if fa == 0:\n",
    "        return a\n",
    "    if fb == 0:\n",
    "        return b\n",
    "    if fa * fb > 0:\n",
    "        raise ValueError(\"Przedział jest źle dobrany. Szukane miejsce zerowe znajduje się poza przedziałem.\")\n",
    "    \n",
    "    c = a  #ustawiamy punkt c jako początkowy lewy koniec przedziału\n",
    "    fc = fa #wartość funkcji w punkcie c\n",
    "\n",
    "    #liczniki iteracji\n",
    "    num_iter = 1\n",
    "    num_add_mult = 5\n",
    "\n",
    "    while abs(b - a) > e:\n",
    "        num_add_mult += 1\n",
    "\n",
    "        #jeśli wartości funkcji w punktach a, b i c są różne, używamy interpolacji kwadratowej\n",
    "        if fa != fc and fb != fc:\n",
    "            # wyliczamy punkt przez interpolację kwadratową\n",
    "            x = (a * fb * fc / ((fa - fb) * (fa - fc)) + b * fa * fc / ((fb - fa) * (fb - fc)) + c * fa * fb / ((fc - fa) * (fc - fb)))\n",
    "            num_add_mult += 20\n",
    "        else:\n",
    "            #jeśli nie można zastosować interpolacji, używamy metody siecznych\n",
    "            x = b - fb * (b-a)/(fb-fa) \n",
    "            num_add_mult += 5\n",
    "\n",
    "        #sprawdzamy, czy wynik interpolacji znajduje się w przedziale (a, b)\n",
    "        if not (a < x < b):\n",
    "            x = (a + b) / 2 #jeśli nie, wykonujemy krok bisekcji\n",
    "            num_add_mult += 2\n",
    "    \n",
    "        fx = f(x)\n",
    "        num_add_mult += 2\n",
    "        if abs(fx) < e:\n",
    "            return x, fx, num_iter, num_add_mult\n",
    "        \n",
    "        #aktualizujemy przedział w zależności od znaku wartości funkcji\n",
    "        if fa * fx < 0:\n",
    "            b, fb = x, fx\n",
    "        else:\n",
    "            a, fa = x, fx\n",
    "\n",
    "        #aktualizujemy punkt c\n",
    "        if abs(fa) < abs(fb):\n",
    "            c, fc = a, fa\n",
    "        else:\n",
    "            c, fc = b, fb\n",
    "\n",
    "        num_iter += 1\n",
    "        num_add_mult += 1 \n",
    "        \n",
    "    return (a + b) / 2, f((a + b) / 2), num_iter, num_add_mult + 6\n"
   ]
  },
  {
   "cell_type": "markdown",
   "metadata": {},
   "source": [
    "- Przykładowe użycie naszej funkcji"
   ]
  },
  {
   "cell_type": "code",
   "execution_count": 12,
   "metadata": {},
   "outputs": [
    {
     "name": "stdout",
     "output_type": "stream",
     "text": [
      "Rozwiązanie równania: x = 2.0288\n",
      "f(x) = -6.928547069406932e-09\n",
      "Liczba iteracji: 49\n",
      "Liczba dodawań i mnożeń: 445\n"
     ]
    }
   ],
   "source": [
    "x, fm, n1, n2 = brent(f1, 1.7, 2.8, 1e-8)\n",
    "print(f\"Rozwiązanie równania: x = {x:6.4f}\\nf(x) = {fm}\\nLiczba iteracji: {n1}\\nLiczba dodawań i mnożeń: {n2}\")\n"
   ]
  },
  {
   "cell_type": "markdown",
   "metadata": {},
   "source": [
    "<div style=\"text-align:center; font-size:23px; font-family:'Georgia'; font-weight:bold; color:plum;\">\n",
    "    Metoda siecznych\n",
    "</div>"
   ]
  },
  {
   "cell_type": "markdown",
   "metadata": {},
   "source": [
    "- Kolejną metodą, którą zaimplementujemy będzie metoda siecznych."
   ]
  },
  {
   "cell_type": "markdown",
   "metadata": {},
   "source": [
    "Metoda siecznych to numeryczna metoda znajdowania miejsc zerowych funkcji $f(x) = 0$. Jest to wariant metody Newtona, ale nie wymaga obliczania pochodnej \n",
    "$f'(x)$. Zamiast tego, przybliża pochodną za pomocą różnicy funkcji w dwóch punktach, czyli:\n",
    "\n",
    "$$\n",
    "x_{n+1} = x_n - \\frac{f(x_n) \\cdot (x_n - x_{n-1})}{f(x_n) - f(x_{n-1})}.\n",
    "$$\n",
    "\n",
    "Metoda iteracyjnie przybliża rozwiązanie, wykorzystując tylko wartości funkcji, co czyni ją prostszą w implementacji w porównaniu z metodą Newtona.\n",
    "\n",
    "**Wady **i zalety metody siecznych:**\n",
    "\n",
    "Zalety:\n",
    "1. **Brak konieczności liczenia pochodnej** – przydatne w przypadku funkcji, dla których obliczenie $f'(x)$jest trudne lub niemożliwe.\n",
    "\n",
    "\n",
    "Wady:\n",
    "1. **Zależność od punktów początkowych** – źle dobrane początkowe wartości $x_0, x_1$ mogą prowadzić do niestabilności.\n",
    "\n"
   ]
  },
  {
   "cell_type": "code",
   "execution_count": 13,
   "metadata": {},
   "outputs": [],
   "source": [
    "def sieczne(f, a, b, max_i_num, tol=1e-8):\n",
    "    #część kodu tak jak we wcześniejszych implementacjach\n",
    "    fa, fb = f(a), f(b)\n",
    "    if fa == 0:\n",
    "        return a  \n",
    "    if fb == 0:\n",
    "        return b  \n",
    "    if fa * fb > 0:\n",
    "        raise ValueError(\"Przedział jest źle dobrany. Szukane miejsce zerowe znajduje się poza przedziałem.\")\n",
    "    \n",
    "    x_stare = a       \n",
    "    fxs = f(x_stare)  \n",
    "    x = a - fa / (fb - fa) * (b - a)  #pierwszy krok metody siecznych (przybliżenie nowego punktu)\n",
    "    fx = f(x)        \n",
    "\n",
    "    num_iter = 1      \n",
    "    num_add_mult = 12  \n",
    "\n",
    "    for _ in range(max_i_num):\n",
    "        #tymczasowe przechowanie poprzednich wartości x i f(x) przed aktualizacją\n",
    "        x_s_tymczasowe, fxs_tymczasowe = x.copy(), fx.copy()\n",
    "\n",
    "        #aktualizujemy punkt a (główna formuła metody siecznych)\n",
    "        x -= fx * (x - x_stare) / (fx - fxs)\n",
    "        fx = f(x)\n",
    "\n",
    "        # Aktualizacja \"starych\" punktów x i f(x) dla następnej iteracji\n",
    "        x_stare, fxs = x_s_tymczasowe, fxs_tymczasowe\n",
    "        num_add_mult += 5\n",
    "\n",
    "        #sprawdzamy warunku stopu: \n",
    "        if abs(fx) < tol:\n",
    "            return x, fx, num_iter, num_add_mult\n",
    "\n",
    "        num_iter += 1\n",
    "\n",
    "    return x, fx, num_iter, num_add_mult\n"
   ]
  },
  {
   "cell_type": "markdown",
   "metadata": {},
   "source": [
    "- Przykładowe użycie metody:"
   ]
  },
  {
   "cell_type": "code",
   "execution_count": 14,
   "metadata": {},
   "outputs": [
    {
     "name": "stdout",
     "output_type": "stream",
     "text": [
      "Rozwiązanie równania: x = 2.0288\n",
      "f(x) = 6.878808633814515e-11\n",
      "Liczba iteracji: 8\n",
      "Liczba dodawań i mnożeń: 52\n"
     ]
    }
   ],
   "source": [
    "x,fx, n1, n2 = sieczne(f1, 1.7, 2.8,1000)\n",
    "print(f\"Rozwiązanie równania: x = {x:6.4f}\\nf(x) = {fx}\\nLiczba iteracji: {n1}\\nLiczba dodawań i mnożeń: {n2}\")"
   ]
  },
  {
   "cell_type": "markdown",
   "metadata": {},
   "source": [
    "<div style=\"text-align:center; font-size:23px; font-family:'Georgia'; font-weight:bold; color:plum;\">\n",
    "    Metoda Newtona\n",
    "</div>"
   ]
  },
  {
   "cell_type": "markdown",
   "metadata": {},
   "source": [
    "- Ostatnią już w tym zadaniu metodą do zaimplementowania będzie metoda Newtona."
   ]
  },
  {
   "cell_type": "markdown",
   "metadata": {},
   "source": [
    "Metoda Newtona to iteracyjna metoda numeryczna używana do znajdowania miejsc zerowych funkcji $f(x) = 0$. \n",
    "Główna idea metody polega na liniowym przybliżeniu funkcji $f(x)$ w punkcie $x_n$ przy użyciu jej pierwszej pochodnej $f'(x)$.\n",
    "\n",
    "**Zalety:**\n",
    "1. **Szybka zbieżność:** - dla dobrze dobranego początkowego przybliżenia $x_0$ i funkcji o gładkich właściwościach, metoda Newtona zbiega kwadratowo (bardzo szybko).\n",
    "2. **Efektywność:** - jest bardziej efektywna niż metody bisekcji lub siecznych, gdy dostępna jest pochodna $f'(x)$.\n",
    "\n",
    "---\n",
    "\n",
    "**Wady:**\n",
    "1. **Zależność od punktu początkowego:** - jeśli początkowe $x_0$ jest daleko od miejsca zerowego, metoda może nie zbiegać do rozwiązania.\n",
    "2. **Wymaga pochodnej:** - obliczanie $f'(x)$ jest konieczne, co bywa problematyczne dla funkcji złożonych lub nieróżniczkowalnych.\n",
    "3. **Ryzyko braku zbieżności:** - jeśli $f'(x_n) = 0$ lub jest blisko 0, metoda może przestać działać lub dawać błędne wyniki.\n",
    "\n",
    "---\n"
   ]
  },
  {
   "cell_type": "code",
   "execution_count": 15,
   "metadata": {},
   "outputs": [],
   "source": [
    "def newton(f, f_prime, x_0, max_i_num, tol=1e-8):\n",
    "    x = x_0  # Punkt startowy\n",
    "    num_iter = 1  #\n",
    "    num_add_mult = 0  \n",
    "\n",
    "    for _ in range(max_i_num):\n",
    "        fx = f(x)\n",
    "        num_add_mult += 2  \n",
    "\n",
    "        #warunek stopu: jeśli wartość funkcji w punkcie jest mniejsza niż zadana tolerancja\n",
    "        if abs(fx) < tol:\n",
    "            return x, fx, num_iter, num_add_mult  # Zwracamy wynik\n",
    "\n",
    "        #obliczamy wartość pochodnej funkcji w punkcie x\n",
    "        fpx = f_prime(x)\n",
    "        num_add_mult += 3  \n",
    "\n",
    "        #obliczamy krok iteracji h = -f(x) / f'(x)\n",
    "        h = - fx / fpx\n",
    "        x += h\n",
    "\n",
    "        num_iter += 1\n",
    "        num_add_mult += 3  \n",
    "\n",
    "    return x, fx, num_iter, num_add_mult\n"
   ]
  },
  {
   "cell_type": "code",
   "execution_count": 16,
   "metadata": {},
   "outputs": [],
   "source": [
    "f_prime = lambda x: -1/math.cos(np.pi - x)**2 - 1"
   ]
  },
  {
   "cell_type": "code",
   "execution_count": 17,
   "metadata": {},
   "outputs": [
    {
     "name": "stdout",
     "output_type": "stream",
     "text": [
      "Rozwiązanie równania: x = 2.02875784\n",
      "f(x) = 1.5848211631919185e-11\n",
      "Liczba iteracji: 7\n",
      "Liczba dodawań i mnożeń: 50\n"
     ]
    }
   ],
   "source": [
    "x, fx, num1, num2 = newton(f1, f_prime, 1.7, 1000)\n",
    "print(f\"Rozwiązanie równania: x = {x:6.8f}\\nf(x) = {fx}\\nLiczba iteracji: {num1}\\nLiczba dodawań i mnożeń: {num2}\")"
   ]
  },
  {
   "cell_type": "markdown",
   "metadata": {},
   "source": [
    "<div style=\"text-align:center; font-size:23px; font-family:'Georgia'; font-weight:bold; color:plum;\">\n",
    "    Tabelka\n",
    "</div>"
   ]
  },
  {
   "cell_type": "markdown",
   "metadata": {},
   "source": [
    "\\begin{array}{|c|c|c|c|c|}\n",
    "\\hline\n",
    " & \\text{bisekcja} & \\text{m. Brenta} & \\text{m. siecznych} & \\text{m. Newtona} \\\\ \\hline\n",
    "x & 2.0288 & 2.0288 & 2.0288 & 2.0288 \\\\ \\hline\n",
    "f(x) & 6.53308918074913e-09 & -6.928547069406932e-09 & 6.878808633814515e-11 & 1.5848211631919185e-11 \\\\ \\hline\n",
    "\\text{liczba iteracji} & 28 & 49 & 8 & 7 \\\\ \\hline\n",
    "\\text{liczba mnożeń i dodawań} & 173 & 445 & 52 & 50 \\\\ \\hline\n",
    "\\end{array}%"
   ]
  },
  {
   "cell_type": "markdown",
   "metadata": {},
   "source": [
    "- Sprawdźmy teraz wynik przy pomocy funkcji wbudowanej:"
   ]
  },
  {
   "cell_type": "code",
   "execution_count": 18,
   "metadata": {},
   "outputs": [
    {
     "name": "stdout",
     "output_type": "stream",
     "text": [
      "Rozwiązanie przy pomocy fsolve:\n",
      "x=[2.02875784]\n"
     ]
    }
   ],
   "source": [
    "f_wbudowana = fsolve(f1, 2)\n",
    "print(f\"Rozwiązanie przy pomocy fsolve:\\nx={f_wbudowana}\")"
   ]
  },
  {
   "cell_type": "markdown",
   "metadata": {},
   "source": [
    "**Zadanie 2**\n",
    "\n",
    "Sporządź wykres funkcji \n",
    "\n",
    "$$\n",
    "f(x) = \\cosh(x) \\cos(x) - 1\n",
    "$$ \n",
    "\n",
    "w przedziale $ x \\in [4, 8] $. Na podstawie wykresu sprawdź, że najmniejszy dodatni pierwiastek równania $ f(x) = 0 $ leży w przedziale $ (4, 5) $, a następnie pokaż, że iteracyjny wzór Newtona nie doprowadzi do tego pierwiastka, jeśli punktem startowym będzie $x_0 = 4$.\n"
   ]
  },
  {
   "cell_type": "code",
   "execution_count": 19,
   "metadata": {},
   "outputs": [],
   "source": [
    "#definiujemy naszą funkcje z polecenia\n",
    "f2 = lambda x: np.cosh(x) * np.cos(x) - 1\n",
    "xs = np.linspace(4,8,1000)"
   ]
  },
  {
   "cell_type": "code",
   "execution_count": 20,
   "metadata": {},
   "outputs": [],
   "source": [
    "f2_prime = lambda x: np.cos(x) * np.sinh(x) - np.sin(x) * np.cosh(x)\n",
    "f2_bis = lambda x: -2 * np.sin(x) * np.sinh(x)"
   ]
  },
  {
   "cell_type": "code",
   "execution_count": 21,
   "metadata": {},
   "outputs": [
    {
     "data": {
      "image/png": "[encoded data removed]",
      "text/plain": [
       "<Figure size 1000x600 with 1 Axes>"
      ]
     },
     "metadata": {},
     "output_type": "display_data"
    }
   ],
   "source": [
    "plt.figure(figsize=(10,6))\n",
    "plt.plot(xs, f2(xs), label=\"f(x) = $\\\\cosh(x) \\\\cdot \\\\cos(x) - 1$\", color=\"hotpink\")\n",
    "plt.axhline(0, color='black', linewidth=0.8, linestyle='--') \n",
    "plt.xlabel('x')\n",
    "plt.ylabel('f(x)')\n",
    "plt.title('Wykres funkcji f(x)')\n",
    "plt.grid(True, linestyle='--', alpha=0.6)\n",
    "plt.legend()\n",
    "plt.show()"
   ]
  },
  {
   "cell_type": "code",
   "execution_count": 22,
   "metadata": {},
   "outputs": [],
   "source": [
    "def iteracyjny_newton_modyfikowany(f, f_prime, f_bis, x_0, max_i_num, tol=1e-8):\n",
    "    #pkt początkowy\n",
    "    x = x_0 \n",
    "\n",
    "    for _ in range(max_i_num):\n",
    "        fx = f(x)\n",
    "\n",
    "        if abs(fx) < tol:\n",
    "            return x\n",
    "        \n",
    "        fpx = f_prime(x)  #obliczamy wartość pierwszej pochodnej w punkcie x.\n",
    "        fbx = f_bis(x) #obliczamy wartość drugiej pochodnej w punkcie x.\n",
    "\n",
    "        #wyrażenie pomocnicze u = f(x) / f'(x), stosowane w modyfikacji wzoru Newtona.\n",
    "        u = fx/fpx\n",
    "\n",
    "        #wyrażenie pomocnicze t = f(x) * f''(x) / (f'(x))^2, które uwzględnia drugą pochodną funkcji.\n",
    "        t = fx*fbx/fpx**2\n",
    "\n",
    "        x -= u * 2/(1 + np.sqrt(1 - 2 * t))\n",
    "    return x "
   ]
  },
  {
   "cell_type": "markdown",
   "metadata": {},
   "source": [
    "- Najpierw przetestujmy rozwiązanie standardową iteracyjną metodą Newtona startując od $x_0=4$."
   ]
  },
  {
   "cell_type": "code",
   "execution_count": 23,
   "metadata": {},
   "outputs": [
    {
     "name": "stdout",
     "output_type": "stream",
     "text": [
      "Rozwiązanie standardową iteracyjną metodą Newtona startując od x0 = 4\n",
      "x = 10.995607838001671\n"
     ]
    }
   ],
   "source": [
    "x = newton(f2, f2_prime, 4, 1000)[0]\n",
    "print(f\"Rozwiązanie standardową iteracyjną metodą Newtona startując od x0 = 4\\nx = {x}\")"
   ]
  },
  {
   "cell_type": "markdown",
   "metadata": {},
   "source": [
    "- Teraz przy pomocy wbudowanej funkcji."
   ]
  },
  {
   "cell_type": "code",
   "execution_count": 24,
   "metadata": {},
   "outputs": [
    {
     "name": "stdout",
     "output_type": "stream",
     "text": [
      "Rozwiązanie za pomocą wbudowanej metody fsolve:\n",
      "x=[4.73004074]\n"
     ]
    }
   ],
   "source": [
    "f_wbudowana = fsolve(f2, 4)\n",
    "print(f\"Rozwiązanie za pomocą wbudowanej metody fsolve:\\nx={f_wbudowana}\")"
   ]
  },
  {
   "cell_type": "markdown",
   "metadata": {},
   "source": [
    "- Rzeczywiście jak mówi polecenie wynik jest inny i metoda standardowa iteracyjna metody newtona nie daje nam tego oczekiwanego pierwiastka."
   ]
  },
  {
   "cell_type": "markdown",
   "metadata": {},
   "source": [
    "- Możemy jeszcze sprawdzić wynik przy użyciu zmodefikowanej metody:"
   ]
  },
  {
   "cell_type": "code",
   "execution_count": 25,
   "metadata": {},
   "outputs": [
    {
     "name": "stdout",
     "output_type": "stream",
     "text": [
      "Rozwiązanie modyfikowaną iteracyjną metodą Newtona startując od x0 = 4\n",
      "x = 4.730040744862704\n"
     ]
    }
   ],
   "source": [
    "x_m = iteracyjny_newton_modyfikowany(f2, f2_prime, f2_bis, 4, 1000)\n",
    "print(f\"Rozwiązanie modyfikowaną iteracyjną metodą Newtona startując od x0 = 4\\nx = {x_m}\")"
   ]
  },
  {
   "cell_type": "markdown",
   "metadata": {},
   "source": [
    "**Zadanie 3**"
   ]
  },
  {
   "cell_type": "markdown",
   "metadata": {},
   "source": [
    "**Wyznaczenie czasu osiągnięcia prędkości dźwięku przez rakietę Saturn V**\n",
    "\n",
    "Prędkość $v$ rakiety Saturn V w locie pionowym tuż przy powierzchni Ziemi można przybliżyć wzorem:\n",
    "\n",
    "$$\n",
    "v = u \\ln \\left( \\frac{M_0}{M_0 - \\dot{m} t} \\right) - g t,\n",
    "$$\n",
    "\n",
    "gdzie:\n",
    "\n",
    "- $u = 2510 \\, \\text{m/s}$ – prędkość spalin względem rakiety,\n",
    "- $M_0 = 2{,}8 \\times 10^6 \\, \\text{kg}$ – masa rakiety w momencie oderwania od Ziemi,\n",
    "- $\\dot{m} = 13{,}3 \\times 10^3 \\, \\text{kg/s}$– szybkość zużycia paliwa,\n",
    "- $g = 9{,}81 \\, \\text{m/s}^2$ – przyspieszenie ziemskie,\n",
    "- $t$ – czas mierzony od oderwania od Ziemi.\n",
    "\n",
    "Wyznacz czas $t$, po jakim rakieta osiągnie prędkość dźwięku $v = 335 \\, \\text{m/s}$.\n"
   ]
  },
  {
   "cell_type": "code",
   "execution_count": 26,
   "metadata": {},
   "outputs": [],
   "source": [
    "f3 = lambda x: 2510 * np.log(2.8 * 10 ** 6 / (2.8 * 10 ** 6 - 13.3 * 10**3 * x)) - 9.81 * x - 335\n",
    "f3_prime = lambda x: 2510 / (210.526 - x) - 9.81"
   ]
  },
  {
   "cell_type": "code",
   "execution_count": 27,
   "metadata": {},
   "outputs": [],
   "source": [
    "t = newton(f3, f3_prime, 60, 1000)[0]"
   ]
  },
  {
   "cell_type": "code",
   "execution_count": 28,
   "metadata": {},
   "outputs": [
    {
     "name": "stdout",
     "output_type": "stream",
     "text": [
      "Rozwiązanie standardową iteracyjną metodą Newtona startując od x0 = 60\n",
      "t = 70.87797226808371\n"
     ]
    }
   ],
   "source": [
    "print(f\"Rozwiązanie standardową iteracyjną metodą Newtona startując od x0 = 60\\nt = {t}\")"
   ]
  },
  {
   "cell_type": "code",
   "execution_count": 29,
   "metadata": {},
   "outputs": [
    {
     "name": "stdout",
     "output_type": "stream",
     "text": [
      "Rozwiązanie za pomocą wbudowanej metody fsolve:\n",
      "x=[70.87797227]\n"
     ]
    }
   ],
   "source": [
    "f_wbudowana = fsolve(f3, 60)\n",
    "print(f\"Rozwiązanie za pomocą wbudowanej metody fsolve:\\nx={f_wbudowana}\")"
   ]
  },
  {
   "cell_type": "markdown",
   "metadata": {},
   "source": [
    "**Zadanie 4**"
   ]
  },
  {
   "cell_type": "markdown",
   "metadata": {},
   "source": [
    "**Wyznaczenie temperatury dla zadanej energii swobodnej Gibbsa**\n",
    "\n",
    "Energia swobodna Gibbsa jednego mola wodoru w temperaturze $T$ wyrażona jest wzorem:\n",
    "\n",
    "$$\n",
    "G = -RT \\ln \\left( \\frac{T}{T_0} \\right)^{5/2},\n",
    "$$\n",
    "\n",
    "gdzie:\n",
    "- $R = 8.31441 \\, \\text{J/K}$ – stała gazowa,\n",
    "- $T_0 = 4.44418 \\, \\text{K}$.\n",
    "\n",
    "Wyznacz temperaturę $T$, w której energia swobodna Gibbsa wynosi $ G = -10^5 \\, \\text{J} $.\n"
   ]
  },
  {
   "cell_type": "code",
   "execution_count": 30,
   "metadata": {},
   "outputs": [],
   "source": [
    "f4 = lambda x: -8.31441 * x * np.log((x /  4.44418) ** (2.5)) + 10**5\n",
    "f4_prime = lambda x: 10.2183 - 8.31441 * np.log(x ** (2.5))"
   ]
  },
  {
   "cell_type": "code",
   "execution_count": 31,
   "metadata": {},
   "outputs": [],
   "source": [
    "T = newton(f4, f4_prime, 900, 1000)[0]"
   ]
  },
  {
   "cell_type": "code",
   "execution_count": 32,
   "metadata": {},
   "outputs": [
    {
     "name": "stdout",
     "output_type": "stream",
     "text": [
      "Rozwiązanie standardową iteracyjną metodą Newtona startując od x0 = 900\n",
      "T = 904.9425832328805\n"
     ]
    }
   ],
   "source": [
    "print(f\"Rozwiązanie standardową iteracyjną metodą Newtona startując od x0 = 900\\nT = {T}\")"
   ]
  },
  {
   "cell_type": "code",
   "execution_count": 33,
   "metadata": {},
   "outputs": [
    {
     "name": "stdout",
     "output_type": "stream",
     "text": [
      "Rozwiązanie za pomocą wbudowanej metody fsolve:\n",
      "x=[904.94258323]\n"
     ]
    }
   ],
   "source": [
    "f_wbudowana = fsolve(f4, 2)\n",
    "print(f\"Rozwiązanie za pomocą wbudowanej metody fsolve:\\nx={f_wbudowana}\")"
   ]
  },
  {
   "cell_type": "markdown",
   "metadata": {},
   "source": [
    "**Zadanie 5**"
   ]
  },
  {
   "cell_type": "markdown",
   "metadata": {},
   "source": [
    "**Rozwiązanie układu równań w zadanym przedziale**\n",
    "\n",
    "Rozwiąż układ równań:\n",
    "\n",
    "$$\n",
    "\\begin{aligned}\n",
    "\\mathrm{tg}(x) - y &= 1, \\\\\n",
    "\\cos(x) - 3 \\sin(y) &= 0,\n",
    "\\end{aligned}\n",
    "$$\n",
    "\n",
    "gdzie $ x, y \\in (0; 1.5) $.\n",
    "\n",
    "Korzystając z dowolnej metody, wyznacz wszystkie rozwiązania rzeczywiste w podanym przedziale.\n"
   ]
  },
  {
   "cell_type": "markdown",
   "metadata": {},
   "source": [
    "- Zaimplementujemy algorytm Newtona do rowiązywania układów równań nieliniowych."
   ]
  },
  {
   "cell_type": "code",
   "execution_count": 34,
   "metadata": {},
   "outputs": [],
   "source": [
    "def nieliniowy_newton(F, F_prime, x_0, max_i_num, tol):\n",
    "    #punkt początkowy\n",
    "    x = x_0\n",
    "\n",
    "    for _ in range(max_i_num):\n",
    "        Fx = F(x) #obliczamy wektor wartości funkcji F(x) w punkcie x\n",
    "\n",
    "        if np.linalg.norm(Fx) < tol: #sprawdzamy, czy norma wektora F(x) jest mniejsza niż tolerancja\n",
    "            return x\n",
    "        \n",
    "        Fpx = F_prime(x) #obliczamy macierz Jacobiego dla bieżącego punktu x\n",
    "\n",
    "        delta_x = np.linalg.solve(Fpx, -Fx)  #rozwiązujemy układ równań liniowych J(x) * delta_x = -F(x) w celu wyznaczenia korekty delta_x\n",
    "\n",
    "        x = x + delta_x.flatten() #korekta iteracyjna\n",
    "    return x\n",
    "    "
   ]
  },
  {
   "cell_type": "code",
   "execution_count": 35,
   "metadata": {},
   "outputs": [],
   "source": [
    "F5 = lambda x: np.array([np.tan(x[0]) - x[1] - 1, np.cos(x[0]) - 3 * np.sin(x[1])])\n",
    "F5_prime = lambda x: np.matrix([[1/np.cos(x[0])**2, -1], [-np.sin(x[0]), -3*np.cos(x[1])]])"
   ]
  },
  {
   "cell_type": "markdown",
   "metadata": {},
   "source": [
    "- Rozwiązujemy równanie przy pomocy metody Newtona:"
   ]
  },
  {
   "cell_type": "code",
   "execution_count": 37,
   "metadata": {},
   "outputs": [
    {
     "name": "stdout",
     "output_type": "stream",
     "text": [
      "Rozwiązanie:\n",
      "x=0.8815925944959518\n",
      "y=0.2135947145716599\n"
     ]
    }
   ],
   "source": [
    "x, y = nieliniowy_newton(F5,F5_prime, [0,0], 1000, 1e-8)\n",
    "print(f\"Rozwiązanie:\\nx={x}\\ny={y}\")"
   ]
  },
  {
   "cell_type": "code",
   "execution_count": 36,
   "metadata": {},
   "outputs": [
    {
     "name": "stdout",
     "output_type": "stream",
     "text": [
      "Rozwiązanie za pomocą wbudowanej metody fsolve:\n",
      "x=0.8815925944959405\n",
      "y=0.21359471457166196\n"
     ]
    }
   ],
   "source": [
    "def equations(vars):\n",
    "    x, y = vars\n",
    "    eq1 = np.tan(x) - y - 1\n",
    "    eq2 = np.cos(x) - 3*np.sin(y)\n",
    "    return [eq1, eq2]\n",
    "\n",
    "initial_guess = [0,0]\n",
    "x, y = fsolve(equations, initial_guess)\n",
    "print(f\"Rozwiązanie za pomocą wbudowanej metody fsolve:\\nx={x}\\ny={y}\")"
   ]
  },
  {
   "cell_type": "code",
   "execution_count": 39,
   "metadata": {},
   "outputs": [],
   "source": [
    "y1 = lambda x: np.tan(x) - 1\n",
    "y2 = lambda x: np.arcsin(np.cos(x)/3)\n",
    "xs = np.linspace(0, 1.5,1000)"
   ]
  },
  {
   "cell_type": "code",
   "execution_count": 40,
   "metadata": {},
   "outputs": [
    {
     "data": {
      "image/png": "[encoded data removed]",
      "text/plain": [
       "<Figure size 1000x600 with 1 Axes>"
      ]
     },
     "metadata": {},
     "output_type": "display_data"
    }
   ],
   "source": [
    "plt.figure(figsize=(10,6))\n",
    "plt.plot(xs, y1(xs), label=\"y = tan(x) - 1\", color=\"olive\")\n",
    "plt.plot(xs, y2(xs), label=\"y = arcsin(cos(x) / 3)\", color=\"hotpink\")\n",
    "plt.legend(loc=\"best\")\n",
    "plt.show()"
   ]
  },
  {
   "cell_type": "markdown",
   "metadata": {},
   "source": [
    "- Na wykresie rzeczywiście widać, że w podanym przedziale istnieje jedno rowiązanie naszego układu równań."
   ]
  },
  {
   "cell_type": "markdown",
   "metadata": {},
   "source": [
    "**Zadanie 6**\n",
    "\n",
    "**Znajdowanie pierwiastków wielomianu**\n",
    "\n",
    "Znajdź wszystkie pierwiastki wielomianu:\n",
    "\n",
    "$$\n",
    "w(x) = x^4 + (5 + i)x^3 - (8 - 5i)x^2 + (30 - 14i)x - 84,\n",
    "$$\n",
    "\n",
    "gdzie $ i $ oznacza jednostkę urojoną ($ i^2 = -1 $).\n"
   ]
  },
  {
   "cell_type": "code",
   "execution_count": 41,
   "metadata": {},
   "outputs": [],
   "source": [
    "from random import random\n",
    "import cmath"
   ]
  },
  {
   "cell_type": "code",
   "execution_count": null,
   "metadata": {},
   "outputs": [],
   "source": [
    "def oblicz_wielomian(a,x):\n",
    "    n = len(a) - 1\n",
    "    p = a[n]\n",
    "    dp = 0.0 + 0.0j\n",
    "    ddp = 0.0 + 0.0j\n",
    "    for i in range(1,n+1):\n",
    "        ddp = ddp*x + 2.0*dp\n",
    "        dp = dp*x + p\n",
    "        p = p*x + a[n-i]\n",
    "    return p,dp,ddp\n",
    "\n",
    "def pierwiastki_wielomianu_znajdowanie(a,tol=1.0e-12):\n",
    "\n",
    "    def metoda_laguerre(a,tol):\n",
    "        x = random() \n",
    "        n = len(a) - 1\n",
    "    \n",
    "        for i in range(30):\n",
    "            p,dp,ddp = oblicz_wielomian(a,x)\n",
    "            if abs(p) < tol: \n",
    "                return x\n",
    "            g = dp/p\n",
    "            h = g*g - ddp/p\n",
    "            f = cmath.sqrt((n - 1)*(n*h - g*g))\n",
    "            if abs(g + f) > abs(g - f): \n",
    "                dx = n/(g + f)\n",
    "            else: \n",
    "                dx = n/(g - f)\n",
    "            x = x - dx\n",
    "            if abs(dx) < tol: \n",
    "                return x\n",
    "        print('zbyt duzo iteracji')\n",
    "        \n",
    "        \n",
    "    def deflPoly(a,root):\n",
    "        n = len(a)-1\n",
    "        b = [(0.0 + 0.0j)]*n\n",
    "        b[n-1] = a[n]\n",
    "        for i in range(n-2,-1,-1):\n",
    "            b[i] = a[i+1] + root*b[i+1]\n",
    "        return b\n",
    "\n",
    "\n",
    "    n = len(a) - 1\n",
    "    roots = np.zeros((n),dtype=complex)\n",
    "    for i in range(n):\n",
    "        x = metoda_laguerre(a,tol)\n",
    "        if abs(x.imag) < tol: x = x.real\n",
    "        roots[i] = x\n",
    "        a = deflPoly(a,x)\n",
    "    return roots"
   ]
  },
  {
   "cell_type": "code",
   "execution_count": null,
   "metadata": {},
   "outputs": [
    {
     "name": "stdout",
     "output_type": "stream",
     "text": [
      "Pierwiastki tego wielomianu to:\n",
      " [ 2.00000000e+00+0.j  3.50929138e-16+2.j  4.44089210e-16-3.j\n",
      " -7.00000000e+00+0.j]\n"
     ]
    }
   ],
   "source": [
    "c = np.array([-84.0, (30.0-14.0j), (5.0j-8.0), (5.0+1.0j), 1.0])\n",
    "pierwiastki = pierwiastki_wielomianu_znajdowanie(c)\n",
    "print('Pierwiastki tego wielomianu to:\\n',pierwiastki)"
   ]
  },
  {
   "cell_type": "code",
   "execution_count": 10,
   "metadata": {},
   "outputs": [
    {
     "name": "stdout",
     "output_type": "stream",
     "text": [
      "Rozwiązanie za pomocą wbudowanej metody fsolve:\n",
      "x=[-7.00000000e+00+0.00000000e+00j  5.85188382e-16-3.00000000e+00j\n",
      "  2.00000000e+00+3.50386307e-16j  3.10321923e-16+2.00000000e+00j]\n"
     ]
    }
   ],
   "source": [
    "c = np.array([-84.0, (30.0-14.0j), (5.0j-8.0), (5.0+1.0j), 1.0])\n",
    "f_wbudowana = np.roots(w)\n",
    "print(f\"Rozwiązanie za pomocą wbudowanej metody fsolve:\\nx={f_wbudowana}\")"
   ]
  }
 ],
 "metadata": {
  "kernelspec": {
   "display_name": "base",
   "language": "python",
   "name": "python3"
  },
  "language_info": {
   "codemirror_mode": {
    "name": "ipython",
    "version": 3
   },
   "file_extension": ".py",
   "mimetype": "text/x-python",
   "name": "python",
   "nbconvert_exporter": "python",
   "pygments_lexer": "ipython3",
   "version": "3.9.21"
  }
 },
 "nbformat": 4,
 "nbformat_minor": 2
}
